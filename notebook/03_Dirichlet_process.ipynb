{
 "cells": [
  {
   "cell_type": "markdown",
   "metadata": {},
   "source": [
    "## Dirichlet Process\n",
    "\n",
    "군집을 나누는 기본 문제는 군집이 얼마나 존재하는지 우리는 정보를 알 수 없다는 점. 또 이러한 군집은 고정되어 있는 것이 아니라 시간에 따라 변화하는 역동적인 주체. **Dirichlet Process** 는 우리가 알 수 없는 군집의 대해서, 그리고 변화하는 군집의 특성을 대처할 수 있다. \n"
   ]
  },
  {
   "cell_type": "code",
   "execution_count": null,
   "metadata": {},
   "outputs": [],
   "source": []
  }
 ],
 "metadata": {
  "kernelspec": {
   "display_name": "Python 3",
   "language": "python",
   "name": "python3"
  },
  "language_info": {
   "codemirror_mode": {
    "name": "ipython",
    "version": 3
   },
   "file_extension": ".py",
   "mimetype": "text/x-python",
   "name": "python",
   "nbconvert_exporter": "python",
   "pygments_lexer": "ipython3",
   "version": "3.7.3"
  }
 },
 "nbformat": 4,
 "nbformat_minor": 2
}
