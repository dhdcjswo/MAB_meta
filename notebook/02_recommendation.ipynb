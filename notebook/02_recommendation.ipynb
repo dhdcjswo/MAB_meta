{
 "cells": [
  {
   "cell_type": "markdown",
   "metadata": {},
   "source": [
    "## recommendation\n",
    "Multi-armed-bandit(MAB)는 단순히 AB 테스트의 확장을 넘어서 추천알고리즘으로도 많이 사용되고 있다. 특히 넷플릭스는 MAB를 적극활용한 추천시스템을 제공하고 있다. 사실 기본적인 원리와 바탕은 일반적인 MAB와 동일하다. 다만 목적에 따라 달리 사용되는 그 '아이디어'와 사고의 흐름은 알아야 할 것 같다.  \n",
    "AB테스트는 서로다른 대안에 대해서 더 나은 안, 더 전환율이 높은 안을 선택하는 가장 직관적이고 효과적인 방법이다. MAB는 AB테스트와 달리 매 시기마다 유저정보를 통해 학습하고 업데이트되며, 이러한 내용은 실시간으로 유저들에게 제공된다. **추천**도 마찬가지이다. 전환율의 개념을 동일하게 추천에 적용할 수 있다. 유저들이 좋아할만한 내용, 더많이 클릭할 만한 내용들을 추천하여 결과적으로 전환율을 높이는 것이고 이는 기존의 AB테스트나 MAB의 원리와 동일하다."
   ]
  },
  {
   "cell_type": "markdown",
   "metadata": {},
   "source": [
    "## 1. basic approach\n",
    "\n",
    "클러스터별로 구분됨\n",
    "\n",
    "### setting \n",
    "* bandit은 추천하는 서비스의 종류. 예를들면 영화의 장르\n",
    "* 유저마다 클러스터가 구분되어있음. 영화 선호별 구분이 이미 되어있음.\n",
    "* 구분된 클러스터별 binary bandit의 확률이 다름. -> 영화에 대한 선호가 다름.\n",
    "* 목적은 클러스터별 전환율이 높은 서비스를 제공하는것. 선호하는 영화를 추천해주는것"
   ]
  },
  {
   "cell_type": "code",
   "execution_count": 443,
   "metadata": {},
   "outputs": [],
   "source": [
    "import numpy as np\n",
    "import pandas as pd\n",
    "import matplotlib.pyplot as plt\n",
    "from scipy.optimize import minimize"
   ]
  },
  {
   "cell_type": "code",
   "execution_count": 452,
   "metadata": {},
   "outputs": [],
   "source": [
    "def draw(param_prob, k):\n",
    "    \"\"\"\n",
    "    ex) bandit_list = ['cont1','cont2',...,'contN']\n",
    "        k = 0 -> 'cont1'\n",
    "        param_prob : 해당 bandit의 전환율 , unknown\n",
    "    \"\"\"\n",
    "    \n",
    "    reward = np.random.binomial(1, param_prob[k])\n",
    "    regret = np.max(param_prob) - param_prob[k]\n",
    "    return reward, regret\n",
    "        \n",
    "\n",
    "    \n",
    "class policy:    \n",
    "    \"\"\"\n",
    "    output: 선택된 bandit 번호\n",
    "    \"\"\"\n",
    "        \n",
    "    def epsilon(self, success, fail, epsilon):\n",
    "        \n",
    "        if np.random.rand() < epsilon or success.sum()==0:\n",
    "            k = np.random.randint(0,len(success),1)[0]\n",
    "    \n",
    "        else :\n",
    "#           mean, var = calculator(1+success, 1+fail) 베타분포를 이용하는경우\n",
    "            mean = success/(success+fail)\n",
    "            k = np.argmax(mean)\n",
    "        return k    \n",
    "    \n",
    "    \n",
    "    \n",
    "    def thompson(self, success, fail, epsilon):\n",
    "                \n",
    "        \n",
    "       # exploration : 랜덤선택\n",
    "        if np.random.rand() < epsilon:\n",
    "            k = np.random.randint(0,len(success),1)[0]\n",
    "\n",
    "        # exploitation : 샘플링\n",
    "        else :\n",
    "            rvs = np.random.beta(1+success, 1+fail)\n",
    "            k = np.argmax(rvs)\n",
    "        return k    \n",
    "    \n",
    "    def UCB(self, success, fail, epsilon):\n",
    "        # exploration : 랜덤선택\n",
    "        if np.random.rand() < epsilon or success.sum()==0:\n",
    "            k = np.random.randint(0,len(success),1)[0]\n",
    "\n",
    "        # exploitation : upper confidence bound\n",
    "        else :\n",
    "            Q = (success/(success+fail)) # 각 bandit의 평균 성공확률\n",
    "            c = 2\n",
    "            N = success+fail # 각 bandit의 총 선택된 횟수.\n",
    "            k = np.argmax(Q + c*np.sqrt(np.log(N.sum())/N))\n",
    "        return k    \n",
    "    "
   ]
  },
  {
   "cell_type": "code",
   "execution_count": 453,
   "metadata": {},
   "outputs": [],
   "source": [
    "# 기본 세팅\n",
    "n_cluster=8 \n",
    "n_bandit = 10 \n",
    "n_draws = 500 \n",
    "\n",
    "reward_array = {}\n",
    "count_array = {}\n",
    "regret_array = {}\n",
    "\n",
    "for i in range(n_cluster):\n",
    "    reward_array[i] = np.zeros((n_bandit, n_draws))\n",
    "    count_array[i] = np.zeros((n_bandit, n_draws))\n",
    "    regret_array[i] = np.zeros((n_bandit, n_draws))\n"
   ]
  },
  {
   "cell_type": "code",
   "execution_count": 454,
   "metadata": {},
   "outputs": [],
   "source": [
    "param_prob = [np.random.random(n_bandit)*0.5 for i in range(n_cluster)] # 클러스터별 bandit의 모수 set\n",
    "cl_info = np.random.randint(0,n_cluster,1)[0] # 추후 클러스트 분류도 다시 생각해야할듯.\n",
    "\n",
    "success = reward_array[cl_info].sum(axis=1)\n",
    "fail = count_array[cl_info].sum(axis=1) - success"
   ]
  },
  {
   "cell_type": "code",
   "execution_count": 455,
   "metadata": {},
   "outputs": [],
   "source": [
    "pc = policy()\n",
    "k = pc.thompson(success, fail, 0.1)\n",
    "reward, regret = draw(param_prob[cl_info], k)"
   ]
  },
  {
   "cell_type": "code",
   "execution_count": 456,
   "metadata": {},
   "outputs": [],
   "source": [
    "reward_array[cl_info][0, k] = reward\n",
    "count_array[cl_info][0, k] = 1"
   ]
  },
  {
   "cell_type": "code",
   "execution_count": 465,
   "metadata": {},
   "outputs": [],
   "source": [
    "def simulator(n_cl, n_band, n_draw):\n",
    "    n_cluster = n_cl\n",
    "    n_bandit = n_band\n",
    "    n_draws = n_draw\n",
    "\n",
    "    reward_array = {}\n",
    "    count_array = {}\n",
    "    regret_array = {}\n",
    "\n",
    "    for i in range(n_cluster):\n",
    "        reward_array[i] = np.zeros((n_bandit, n_draws))\n",
    "        count_array[i] = np.zeros((n_bandit, n_draws))\n",
    "        regret_array[i] = np.zeros((n_bandit, n_draws))\n",
    "\n",
    "        \n",
    "    param_prob = [np.random.random(n_bandit)*0.5 for i in range(n_cluster)] # 클러스터별 bandit의 모수 set\n",
    "   \n",
    "    \n",
    "    for i in range(n_draws):\n",
    "        \n",
    "        for j in range(n_cluster):\n",
    "        \n",
    "        # 해당클러스터 계산\n",
    "            success = reward_array[j].sum(axis=1)\n",
    "            fail = count_array[j].sum(axis=1) - success\n",
    "\n",
    "            pc = policy()\n",
    "            k = pc.thompson(success, fail, 0.1) # policy 선택은 TS\n",
    "            reward, regret = draw(param_prob[j], k)\n",
    "\n",
    "            reward_array[j][k, i] = reward\n",
    "            count_array[j][k, i] = 1\n",
    "            regret_array[j][k, i] = regret\n",
    "    \n",
    "    return reward_array, count_array, regret_array, param_prob"
   ]
  },
  {
   "cell_type": "code",
   "execution_count": 466,
   "metadata": {},
   "outputs": [],
   "source": [
    "reward,count,regret,param = simulator(5,5,2000)"
   ]
  },
  {
   "cell_type": "code",
   "execution_count": 464,
   "metadata": {},
   "outputs": [
    {
     "data": {
      "text/plain": [
       "Text(0.5, 1.0, 'Expected regret')"
      ]
     },
     "execution_count": 464,
     "metadata": {},
     "output_type": "execute_result"
    },
    {
     "data": {
      "image/png": "[encoded data removed]",
      "text/plain": [
       "<Figure size 432x288 with 1 Axes>"
      ]
     },
     "metadata": {
      "needs_background": "light"
     },
     "output_type": "display_data"
    }
   ],
   "source": [
    "# UCB\n",
    "for i in range(5):\n",
    "    plt.plot(regret[i].sum(axis=0).cumsum()/(np.arange(2000)+1), label=f'cluster:{i+1}')\n",
    "plt.legend()\n",
    "plt.title('Expected regret')"
   ]
  },
  {
   "cell_type": "code",
   "execution_count": 467,
   "metadata": {},
   "outputs": [
    {
     "data": {
      "text/plain": [
       "Text(0.5, 1.0, 'Expected regret')"
      ]
     },
     "execution_count": 467,
     "metadata": {},
     "output_type": "execute_result"
    },
    {
     "data": {
      "image/png": "[encoded data removed]",
      "text/plain": [
       "<Figure size 432x288 with 1 Axes>"
      ]
     },
     "metadata": {
      "needs_background": "light"
     },
     "output_type": "display_data"
    }
   ],
   "source": [
    "# thompson sampling\n",
    "for i in range(5):\n",
    "    plt.plot(regret[i].sum(axis=0).cumsum()/(np.arange(2000)+1), label=f'cluster:{i+1}')\n",
    "plt.legend()\n",
    "plt.title('Expected regret')"
   ]
  },
  {
   "cell_type": "markdown",
   "metadata": {},
   "source": [
    "## 2.logistic bandit\n",
    "\n",
    "* policy(TS, UCB)의 선택이 빠져있음\n",
    "* linear_combination과 logistic 회귀로 확률 P를 추정함\n",
    "\n"
   ]
  },
  {
   "cell_type": "code",
   "execution_count": 384,
   "metadata": {},
   "outputs": [],
   "source": [
    "import pandas as pd\n",
    "from scipy import stats\n",
    "from sklearn.linear_model import LogisticRegression\n",
    "import matplotlib.pyplot as plt\n",
    "import warnings \n",
    "warnings.filterwarnings('ignore')\n",
    "\n",
    "# 기본 세팅\n",
    "n_user = 1000 # 1000명의 유저\n",
    "n_feature = 2 # 고객정보 수\n",
    "n_movies = 4 # 제공 option 수\n",
    "\n",
    "sex = np.random.binomial(1, 0.5, n_user) # 성별\n",
    "data = stats.gamma(10, scale = 3).rvs(n_user)\n",
    "age= list(map(int, data)) # 나이\n",
    "const = np.ones(n_user) # 상수항\n",
    "\n",
    "D = np.array([sex,age,const]).T # feature 데이터 셋\n",
    "reward = np.random.randint(0,2,1000) # 랜덤 reward\n",
    "\n",
    "# 1000명의 데이터로 추론한 모수값(feature beta)\n",
    "logreg = LogisticRegression(fit_intercept=False)\n",
    "logreg.fit(D, reward)\n",
    "\n",
    "# option별 차이 및 노이즈\n",
    "n1 = [logreg.coef_[0][0]*0.1 * np.random.random(1)[0] for i in range(4)]\n",
    "n2 = [logreg.coef_[0][1]*0.1 * np.random.random(1)[0] for i in range(4)]\n",
    "n3 = [logreg.coef_[0][2]*0.1 * np.random.random(1)[0] for i in range(4)]"
   ]
  },
  {
   "cell_type": "code",
   "execution_count": 385,
   "metadata": {},
   "outputs": [],
   "source": [
    "# 실제로 우리가 모르는 모수가 존재함.\n",
    "# 실제 모수에 의해서 값이결정되는 과정.\n",
    "# bandit k 마다 모수가 다름.\n",
    "class MAB:\n",
    "    \n",
    "    def __init__(self):\n",
    "        self.weights = {}\n",
    "        self.weights[0] = [logreg.coef_[0][0]+n1[0], logreg.coef_[0][1]+n2[0], logreg.coef_[0][2]+n3[0]]\n",
    "        self.weights[1] = [logreg.coef_[0][0]+n1[1], logreg.coef_[0][1]+n2[1], logreg.coef_[0][2]+n3[0]]\n",
    "        self.weights[2] = [logreg.coef_[0][0]+n1[2], logreg.coef_[0][1]+n2[2], logreg.coef_[0][2]+n3[0]]\n",
    "        self.weights[3] = [logreg.coef_[0][0]+n1[3], logreg.coef_[0][1]+n2[3], logreg.coef_[0][2]+n3[0]]\n",
    "\n",
    "    def draw(self, k, x):\n",
    "        \"\"\"\n",
    "        k: 선택된 bandit(option) number\n",
    "        x: context.\n",
    "        \"\"\"\n",
    "        \n",
    "        prob_dict = {}\n",
    "        for bandit in self.weights.keys():\n",
    "            f_x = self.weights[bandit][0]*x[0] + self.weights[bandit][1]*x[1] + self.weights[bandit][2]*x[2]\n",
    "            prob = 1/(1+np.exp(-f_x))\n",
    "            prob_dict[bandit] = prob\n",
    "            \n",
    "        reward = np.random.binomial(1,p=prob_dict[k])\n",
    "        regret = max(prob_dict.values()) - prob_dict[k]\n",
    "        prob = prob_dict[k]\n",
    "        return reward,regret, prob\n",
    "    \n",
    "\n",
    "# 과거 데이터 / 선택된 bandit(option), x는 linear combination, 결과feedback.\n",
    "class linear_bandit:\n",
    "    \n",
    "    def __init__(self, n_bandits):\n",
    "        # 실제 정보 \n",
    "        self.n_bandits = n_bandits\n",
    "        self.epsilon = 0.1\n",
    "        self.coef = []\n",
    "            \n",
    "    def fit(self, data, actual_x):\n",
    "        \n",
    "        # sgd object\n",
    "        logreg = LogisticRegression(fit_intercept=False)\n",
    "        \n",
    "        # fitting to data\n",
    "        logreg.fit(data.iloc[:,1:-1].values, data['reward'])\n",
    "        \n",
    "        self.coef.append(logreg.coef_[0])\n",
    "        \n",
    "        # returning probabilities\n",
    "        return logreg.predict_proba(actual_x)[0][1]\n",
    "    \n",
    "    def choose_bandit(self, round_df, actual_x):\n",
    "        \n",
    "        # 초기 데이터가 많이 없는 경우는 random하게 선택해버림\n",
    "        if round_df.groupby(['k','reward']).size().shape[0] != 8: # 각 bandit별 reward(0,1) 데이터가 모두  나옴\n",
    "            best_bandit = np.random.randint(0,self.n_bandits,1)[0]\n",
    "            \n",
    "            return best_bandit\n",
    "        \n",
    "        # 데이터가 충분한 경우 과거데이터 + feature 종합. theta 계산 가능\n",
    "        else :\n",
    "            # predictinng for two of our datasets\n",
    "            bandit_scores = round_df.groupby('k').apply(self.fit, actual_x=actual_x)\n",
    "\n",
    "            # get best bandit\n",
    "            best_bandit = int(bandit_scores.idxmax())    \n",
    "        \n",
    "        \n",
    "        # epsilon 만큼의 탐색. 이건 조건적으로 넣고 뺴도됨.\n",
    "        if np.random.random(1) < self.epsilon:\n",
    "            best_bandit = np.random.randint(0,self.n_bandits,1)[0]\n",
    "        else :\n",
    "            pass    \n",
    "        \n",
    "        return best_bandit\n",
    "        "
   ]
  },
  {
   "cell_type": "code",
   "execution_count": 394,
   "metadata": {},
   "outputs": [],
   "source": [
    "lb = linear_bandit(4)\n",
    "mab = MAB()\n",
    "\n",
    "k_list = []\n",
    "reward_list = []\n",
    "regret_list= []\n",
    "round_df=pd.DataFrame({'k':[],'x1':[],'x2':[],'x3':[] ,'reward':[]})\n",
    "\n",
    "user = D\n",
    "k = lb.choose_bandit(round_df, user)\n",
    "x = user[0]\n",
    "reward,regret, prob = mab.draw(k, x)"
   ]
  },
  {
   "cell_type": "code",
   "execution_count": 395,
   "metadata": {},
   "outputs": [],
   "source": [
    "N_DRAW = 1000\n",
    "for i in range(N_DRAW):\n",
    "    k = lb.choose_bandit(round_df, user)\n",
    "    x = user[i]\n",
    "    reward,regret, prob = mab.draw(k, x)\n",
    "    temp_df = pd.DataFrame({'k': k, 'x1': x[0], 'x2':x[1],'x3':x[2],'reward': reward}, index=[i])\n",
    "    round_df = pd.concat([round_df, temp_df])\n",
    "    \n",
    "    k_list.append(k)\n",
    "    reward_list.append(reward)\n",
    "    regret_list.append(regret)"
   ]
  },
  {
   "cell_type": "code",
   "execution_count": 431,
   "metadata": {},
   "outputs": [
    {
     "data": {
      "text/plain": [
       "[<matplotlib.lines.Line2D at 0xe218e10>]"
      ]
     },
     "execution_count": 431,
     "metadata": {},
     "output_type": "execute_result"
    },
    {
     "data": {
      "image/png": "[encoded data removed]",
      "text/plain": [
       "<Figure size 432x288 with 1 Axes>"
      ]
     },
     "metadata": {
      "needs_background": "light"
     },
     "output_type": "display_data"
    }
   ],
   "source": [
    "# 나이 변수에 따른 확률값 p 차이\n",
    "x = np.linspace(20,40,100)\n",
    "f_x1 = mab.weights[0][1]*x + mab.weights[0][2]\n",
    "f_x2 = mab.weights[0][0] + mab.weights[0][1]*x + mab.weights[0][2]\n",
    "p1 = 1/(1+ np.exp(f_x1))\n",
    "p2 = 1/(1+ np.exp(f_x2))\n",
    "plt.plot(x,p1)\n",
    "plt.plot(x,p2)"
   ]
  },
  {
   "cell_type": "code",
   "execution_count": 437,
   "metadata": {},
   "outputs": [
    {
     "data": {
      "text/plain": [
       "(array([254.,   0.,   0., 252.,   0.,   0.,   2.,   0.,   0., 492.]),\n",
       " array([0. , 0.3, 0.6, 0.9, 1.2, 1.5, 1.8, 2.1, 2.4, 2.7, 3. ]),\n",
       " <a list of 10 Patch objects>)"
      ]
     },
     "execution_count": 437,
     "metadata": {},
     "output_type": "execute_result"
    },
    {
     "data": {
      "image/png": "[encoded data removed]",
      "text/plain": [
       "<Figure size 432x288 with 1 Axes>"
      ]
     },
     "metadata": {
      "needs_background": "light"
     },
     "output_type": "display_data"
    }
   ],
   "source": [
    "# 가장 확률값이 높은 경우\n",
    "plt.hist(np.matmul(D,th.T).argmax(axis=1))"
   ]
  },
  {
   "cell_type": "code",
   "execution_count": 470,
   "metadata": {},
   "outputs": [
    {
     "data": {
      "text/plain": [
       "[<matplotlib.lines.Line2D at 0x115a54f0>]"
      ]
     },
     "execution_count": 470,
     "metadata": {},
     "output_type": "execute_result"
    },
    {
     "data": {
      "image/png": "[encoded data removed]",
      "text/plain": [
       "<Figure size 432x288 with 1 Axes>"
      ]
     },
     "metadata": {
      "needs_background": "light"
     },
     "output_type": "display_data"
    }
   ],
   "source": [
    "plt.plot(np.cumsum(regret_list)/np.arange(1,1001))"
   ]
  }
 ],
 "metadata": {
  "kernelspec": {
   "display_name": "Python 3",
   "language": "python",
   "name": "python3"
  },
  "language_info": {
   "codemirror_mode": {
    "name": "ipython",
    "version": 3
   },
   "file_extension": ".py",
   "mimetype": "text/x-python",
   "name": "python",
   "nbconvert_exporter": "python",
   "pygments_lexer": "ipython3",
   "version": "3.7.3"
  }
 },
 "nbformat": 4,
 "nbformat_minor": 2
}
