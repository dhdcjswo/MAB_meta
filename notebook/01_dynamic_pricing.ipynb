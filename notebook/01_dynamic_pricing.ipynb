{
 "cells": [
  {
   "cell_type": "markdown",
   "metadata": {},
   "source": [
    "## description\n",
    "\n",
    "고정된 가격이 아니라 최적의 이익을 기대할 수 있는 방향으로 가격을 업데이트 하는것이 합리적인 선택이다. 가격 선택의 이면에는 다양한 근거들이 존재하지만 결국은 최적의 이익이 목표가 되야한다. \"이익\" 이라는 것은 단순히 눈에 보이는 매출일 수도 있고 잠재적인 가치 또는 주관적인 가치들일 수도 있다.MAB를 이용하여 dynamic하게 pricing을 해보자\n",
    "\n",
    "## related work\n",
    "\n",
    "**1. Multi-armed-bandit(MAB)**\n",
    "* 다양한 policy중 최적을 선택\n",
    "* gaussian process\n",
    "\n",
    "\n",
    "**2. demand theory**\n",
    "* 소비자별 가격에 따른 수용정도가 다름\n",
    "* 수요곡선은 우하향 하는 그래프(x축 가격, y축 수요)\n",
    "* profit = demand x price\n",
    "\n",
    "\n",
    "<br>\n",
    "\n",
    "**3. 가격선택시 고려사항**\n",
    "* 합리적인 범위내에서 가격이 변동해야한다.(눈에 보이는 이익 뿐 아니라 잠재적인 이익도 고려해야함)\n",
    "* 대체재와 보완재의 존재가능성\n",
    "* 가격 변화의 시점\n",
    "* 상품에 따라 ,목적에 따른 알맞은 접근법의 필요성\n",
    "* 경쟁상의 가격 고려"
   ]
  },
  {
   "cell_type": "markdown",
   "metadata": {},
   "source": [
    "## 1. basic bayesian base algorithm\n",
    "\n",
    "기본 알고리즘의 구성은 다음과 같다.\n",
    "\n",
    "    1). 가격 제시\n",
    "        - 초기 가격은 임의로 정한 범위내에서 랜덤 생성\n",
    "        \n",
    "    2). 제시된 가격에 따른 전환율\n",
    "        - 전환율은 베타분포를 이용한 thompson sampling으로 산출\n",
    "    \n",
    "    3). 이익 계산과 다음가격 선정.\n",
    "        - 이익을 계산하여 이익이 최대화 되는지점을 찾아감. 다만 휴리스틱한 방법임\n",
    "    \n",
    "    4). 1~3 반복.\n",
    "    \n",
    "<br>\n",
    "\n",
    "**가정**\n",
    "* 수요 곡선 대신 전환율 곡선을 임의로 선정. 실제로는 알수없는 함수\n",
    "* 이익은 가격 x 전환율 로 계산함."
   ]
  },
  {
   "cell_type": "code",
   "execution_count": 6,
   "metadata": {},
   "outputs": [],
   "source": [
    "import numpy as np\n",
    "import matplotlib.pyplot as plt"
   ]
  },
  {
   "cell_type": "code",
   "execution_count": 5,
   "metadata": {},
   "outputs": [],
   "source": [
    "# 수요(전환율) 곡선\n",
    "def demand_func(price):\n",
    "    return np.exp(-np.array(price)*0.0001)\n",
    "\n",
    "# 이익 계산 : 가격 x 전환율\n",
    "def profit_func(price, demand):\n",
    "    return np.array(price) * demand"
   ]
  },
  {
   "cell_type": "code",
   "execution_count": 9,
   "metadata": {},
   "outputs": [
    {
     "data": {
      "text/plain": [
       "[<matplotlib.lines.Line2D at 0xb6c570>]"
      ]
     },
     "execution_count": 9,
     "metadata": {},
     "output_type": "execute_result"
    },
    {
     "data": {
      "image/png": "[encoded data removed]",
      "text/plain": [
       "<Figure size 432x288 with 1 Axes>"
      ]
     },
     "metadata": {
      "needs_background": "light"
     },
     "output_type": "display_data"
    }
   ],
   "source": [
    "# 가정한 수요곡선\n",
    "x = np.linspace(0,50000,1000)\n",
    "y = profit_func(x, demand_func(x))\n",
    "plt.plot(x,y)"
   ]
  },
  {
   "cell_type": "code",
   "execution_count": 13,
   "metadata": {},
   "outputs": [],
   "source": [
    "class MAB:\n",
    "    \"\"\"\n",
    "    알고리즘에 의해 선택된 bandit을 draw하는 역할\n",
    "    * input : 해당 가격에 대응되는 소비자들의 전환율\n",
    "    * output : 0(유보) or 1(구매)\n",
    "    \"\"\"\n",
    "    \n",
    "    def __init__(self, bandit_probs):\n",
    "        self.bandit_probs = bandit_probs\n",
    "        \n",
    "     \n",
    "    # reward\n",
    "    def draw(self):\n",
    "        reward = np.random.binomial(1,self.bandit_probs)\n",
    "        return reward"
   ]
  },
  {
   "cell_type": "code",
   "execution_count": 48,
   "metadata": {},
   "outputs": [],
   "source": [
    "# 베타분포 평균/분산 계산\n",
    "def calculator(alpha,beta):\n",
    "    \"\"\"\n",
    "    베타분포의 평균/분산 을 구하는 함수\n",
    "    * input : alpha, beta\n",
    "    * output : mean, variance\n",
    "    \"\"\"\n",
    "    mean = alpha/(alpha+beta)\n",
    "    var = (alpha*beta)/(((alpha+beta)**2)*(alpha+beta+1))\n",
    "    return mean, var\n",
    "\n",
    "# 베타분포 모수 계산\n",
    "def param(success, fail):\n",
    "    \"\"\"\n",
    "    베타분포 모수 계산 함수\n",
    "    * input : 구매유저수, 구매하지않은 유저수\n",
    "    * output : alpha, beta\n",
    "    \"\"\"\n",
    "    alpha, beta = 1+success, 1+fail\n",
    "    return alpha, beta\n",
    "\n",
    "# 샘플링 policy. 다른 샘플링 방법으로 대체 할 수 있음.\n",
    "def thompson(success, fail):\n",
    "    \"\"\"\n",
    "    소비자들의 피드백을 이용하여 해당 가격의 전환율 계산. 샘플링 방법\n",
    "    * input : 구매유저수, 구매하지않은 유저수\n",
    "    * output : 전환율\n",
    "    \"\"\"\n",
    "    alpha, beta = param(success, fail)\n",
    "    mean, var = calculator(alpha, beta)\n",
    "    \n",
    "    #thompson\n",
    "    rvs = np.random.beta(alpha,beta)\n",
    "    return rvs\n",
    "\n",
    "def UCB(success, fail):\n",
    "    \"\"\"\n",
    "    소비자들의 피드백을 이용하여 해당 가격의 전환율 계산\n",
    "    * input : 구매유저수, 구매하지않은 유저수\n",
    "    * output : 전환율\n",
    "    \"\"\"\n",
    "    Q = (success/(success+fail)) # 각 bandit의 평균 성공확률\n",
    "    c = 2 \n",
    "    N = success+fail # 각 bandit의 총 선택된 횟수.\n",
    "    rvs = np.argmax(Q + c*np.sqrt(np.log(N.sum())/N))\n",
    "    return rvs  \n",
    "\n",
    "\n",
    "# 다음 가격 제시 함수    \n",
    "def pricing(price, rvs):\n",
    "    \"\"\"\n",
    "    제시된 가격에 반응하는 소비자의 전환율을 토대로 다음 가격 제시\n",
    "    * input : 가격, 전환율\n",
    "    * output : 다음가격\n",
    "    \"\"\"\n",
    "    sort_price = np.sort(price)[::-1]\n",
    "    range_price = sort_price[0] - sort_price[-1]\n",
    "    profit =  rvs * price \n",
    "        \n",
    "    k = np.argmax(profit)\n",
    "    opt_price = price[k]\n",
    "    which_opt = np.where(sort_price==opt_price)[0][0]\n",
    "    \n",
    "    # 다음 가격 정하기.\n",
    "    if sort_price[0] == opt_price :\n",
    "        interval = sort_price[0] - sort_price[1]\n",
    "              \n",
    "        next_price = np.random.uniform(np.max([opt_price-interval,0]), opt_price, 2).tolist()+np.random.uniform(opt_price, opt_price*1.1, 2).tolist() \n",
    "    \n",
    "    elif sort_price[-1] == opt_price :\n",
    "        \n",
    "        interval = sort_price[-2] - sort_price[-1]\n",
    "        \n",
    "        next_price = np.random.uniform(opt_price*0.9, opt_price, 2).tolist()+np.random.uniform(opt_price, opt_price+interval, 2).tolist() \n",
    "        \n",
    "    else :\n",
    "        \n",
    "        lower, upper = sort_price[which_opt] - sort_price[which_opt+1], sort_price[which_opt-1] - sort_price[which_opt]\n",
    "        next_price = np.random.uniform(sort_price[which_opt-1], sort_price[which_opt+1],2).tolist() + [sort_price[which_opt-1], sort_price[which_opt+1]]\n",
    "        \n",
    "\n",
    "    return np.sort(next_price)"
   ]
  },
  {
   "cell_type": "code",
   "execution_count": 43,
   "metadata": {},
   "outputs": [],
   "source": [
    "# 시뮬레이션 함수\n",
    "def simulator(n,  price, policy):\n",
    "    \"\"\"\n",
    "    전체 프로세스 시뮬레이션\n",
    "    * input : 테스트하는 소비자들의 수(n) ,가격\n",
    "    * output : 다음 가격\n",
    "    \n",
    "    \"\"\"\n",
    "    reward_array = np.zeros((len(price), n))\n",
    "    opt_history = []\n",
    "    \n",
    "    test=MAB(demand_func(price))\n",
    "    for i in range(n):\n",
    "        reward_array[:,i] = test.draw()\n",
    "    \n",
    "    success = reward_array.sum(axis=1)\n",
    "    fail = n - success\n",
    "    rvs = policy(success, fail)\n",
    "    \n",
    "    next_price = pricing(price,rvs)\n",
    "    return next_price, price * rvs"
   ]
  },
  {
   "cell_type": "code",
   "execution_count": 46,
   "metadata": {},
   "outputs": [],
   "source": [
    "def history(n, x_bound, policy):\n",
    "    \"\"\"\n",
    "    기록저장 함수\n",
    "    * input : 가격제시 횟수, 초기 가격 범위\n",
    "    * output : 가격 log, 이익 log\n",
    "    \"\"\"\n",
    "    price_history = np.zeros((4,n))\n",
    "    profit_history = np.zeros((4,n))\n",
    "    initial_price = np.random.uniform(x_bound[0],x_bound[1], 4)\n",
    "    next_price, profit = simulator(n, initial_price, policy)\n",
    "    \n",
    "    price_history[:, 0] = initial_price\n",
    "    profit_history[:, 0] = profit\n",
    "    price_history[:, 1] = next_price\n",
    "    \n",
    "    for i in range(1,n):\n",
    "        next_price, profit = simulator(1000, next_price, policy)\n",
    "        \n",
    "        if i==n-1:\n",
    "            profit_history[:, i] = profit\n",
    "        else :\n",
    "            price_history[:, i+1] = next_price\n",
    "            profit_history[:, i] = profit\n",
    "        \n",
    "    return price_history, profit_history"
   ]
  },
  {
   "cell_type": "code",
   "execution_count": 49,
   "metadata": {},
   "outputs": [
    {
     "data": {
      "text/plain": [
       "<matplotlib.lines.Line2D at 0xc2bbd0>"
      ]
     },
     "execution_count": 49,
     "metadata": {},
     "output_type": "execute_result"
    },
    {
     "data": {
      "image/png": "[encoded data removed]",
      "text/plain": [
       "<Figure size 432x288 with 1 Axes>"
      ]
     },
     "metadata": {
      "needs_background": "light"
     },
     "output_type": "display_data"
    }
   ],
   "source": [
    "price, profit = history(1000, (0,50000), thompson)\n",
    "plt.plot(price.mean(axis=0))\n",
    "plt.axhline(y = x[np.argmax(y)], ls='--', color='r')"
   ]
  },
  {
   "cell_type": "markdown",
   "metadata": {},
   "source": [
    "실제 최적의 가격 선에 fluctuation하는것을 볼수 있음."
   ]
  },
  {
   "cell_type": "markdown",
   "metadata": {},
   "source": [
    "### 문제점\n",
    "* \"다음 가격 선택\" 의 단계의 근본적인 문제.휴리스틱한 방법이라 근거가 없음."
   ]
  },
  {
   "cell_type": "markdown",
   "metadata": {},
   "source": [
    "## 2.GP optimize\n",
    "\n",
    "*Thompson Sampling for Infinite-Armed Bandits*  \n",
    "베이지안 최적화의 방법과 근본적으로는 동일함. 커널과 hper-parameter를 잘선택하는 것이 중요하게 작용. 지금의 문제처럼 단위가 큰 경우는 더더욱 중요함. 목적함수를 최대화 하는것이 목표.\n",
    "알고리즘의 구성은 다음과 같다.\n",
    "    \n",
    "    1. 가격 제시\n",
    "        - 초기에는 랜덤하게 가격 선택\n",
    "        \n",
    "    2. 주어진 가격과 이익함수(objective function)의 데이터를 근거로 하여 가우시안 프로세스 적용.\n",
    "    \n",
    "    3. 관측치를 지나는 사후분포중 하나를 샘플링\n",
    "    \n",
    "    4.사후분포의 값 중에서 가장큰 이익의 값을 가지는 가격을 다음 테스트 포인트로 선택\n",
    "    \n",
    "    5. 반복\n",
    "\n",
    "하이퍼 파라미터를 어떻게 선택해야할지가 문제. 우선은 베이지안 추론."
   ]
  },
  {
   "cell_type": "code",
   "execution_count": 1,
   "metadata": {},
   "outputs": [],
   "source": [
    "import numpy as np\n",
    "import matplotlib.pyplot as plt\n",
    "import seaborn as sns\n",
    "from matplotlib.animation import FuncAnimation\n",
    "from IPython.display import HTML\n",
    "from tqdm import tqdm\n",
    "from sklearn.gaussian_process import GaussianProcessRegressor\n",
    "from sklearn.gaussian_process.kernels import (RBF, Matern, RationalQuadratic,\n",
    "                                              ExpSineSquared, DotProduct,\n",
    "                                              ConstantKernel)\n",
    "import pymc3 as pm\n",
    "import warnings; warnings.filterwarnings(\"ignore\")\n",
    "\n",
    "plt.ioff()\n",
    "plt.style.use('seaborn-darkgrid')"
   ]
  },
  {
   "cell_type": "code",
   "execution_count": 51,
   "metadata": {},
   "outputs": [
    {
     "name": "stderr",
     "output_type": "stream",
     "text": [
      "logp = -952.95, ||grad|| = 94.678: 100%|█████████████████████████████████████████████████| 9/9 [00:00<00:00, 22.80it/s]\n"
     ]
    },
    {
     "data": {
      "text/html": [
       "<div>\n",
       "<style scoped>\n",
       "    .dataframe tbody tr th:only-of-type {\n",
       "        vertical-align: middle;\n",
       "    }\n",
       "\n",
       "    .dataframe tbody tr th {\n",
       "        vertical-align: top;\n",
       "    }\n",
       "\n",
       "    .dataframe thead th {\n",
       "        text-align: right;\n",
       "    }\n",
       "</style>\n",
       "<table border=\"1\" class=\"dataframe\">\n",
       "  <thead>\n",
       "    <tr style=\"text-align: right;\">\n",
       "      <th></th>\n",
       "      <th>Parameter</th>\n",
       "      <th>Value at MAP</th>\n",
       "    </tr>\n",
       "  </thead>\n",
       "  <tbody>\n",
       "    <tr>\n",
       "      <th>0</th>\n",
       "      <td>length</td>\n",
       "      <td>5000.000570</td>\n",
       "    </tr>\n",
       "    <tr>\n",
       "      <th>1</th>\n",
       "      <td>sigma</td>\n",
       "      <td>2512.923045</td>\n",
       "    </tr>\n",
       "  </tbody>\n",
       "</table>\n",
       "</div>"
      ],
      "text/plain": [
       "  Parameter  Value at MAP\n",
       "0    length   5000.000570\n",
       "1     sigma   2512.923045"
      ]
     },
     "execution_count": 51,
     "metadata": {},
     "output_type": "execute_result"
    }
   ],
   "source": [
    "# hyper-param 추론\n",
    "import pymc3 as pm\n",
    "\n",
    "# 현재 10개의 가격에 대한 목적함수값을 알고있다고 가정.\n",
    "X_obs = np.random.uniform(0,50000, 10)[:,None]\n",
    "Y_obs = obj_func(X_obs)\n",
    "\n",
    "with pm.Model() as model:\n",
    "    length = pm.Uniform('length', lower=0 , upper=10000) # 범위를 넓게 선택.\n",
    "\n",
    "    cov = pm.gp.cov.Exponential(1, length)\n",
    "    gp = pm.gp.Marginal(cov_func=cov)\n",
    "\n",
    "    sigma = pm.HalfCauchy(\"sigma\", beta=10000) # 오차범위도 마찬가지로 넓게 \n",
    "    y_ = gp.marginal_likelihood(\"y\", X=X_obs, y=Y_obs, noise=sigma)\n",
    "\n",
    "    mp = pm.find_MAP()\n",
    "\n",
    "pd.DataFrame({\"Parameter\": [\"length\", \"sigma\"],\n",
    "              \"Value at MAP\": [float(mp[\"length\"]),  float(mp[\"sigma\"])]})"
   ]
  },
  {
   "cell_type": "markdown",
   "metadata": {},
   "source": [
    "kernel 선택함에 있어서 hyper-param 인 length와 sigma를 미리 정해주어야 한다. 적절한 값 선택을 위해서 가지고있는 데이터를 이용하여 추론"
   ]
  },
  {
   "cell_type": "code",
   "execution_count": 50,
   "metadata": {},
   "outputs": [],
   "source": [
    "# thompson sampling 기반 GP optimize\n",
    "class thompsonGP:\n",
    "    \"\"\"\n",
    "    GP 사후분포 계산 및 가격선택\n",
    "    \"\"\"\n",
    "    def __init__(self, n_random_draws, objective, x_bound, interval_resolution=1000):\n",
    "        self.n_random_draws = n_random_draws\n",
    "        self.objective = objective\n",
    "        self.bounds = x_bound\n",
    "        self.interval_resolution = interval_resolution\n",
    "        self.X_grid = np.linspace(self.bounds[0], self.bounds[1], self.interval_resolution)\n",
    "        self.X, self.Y = np.array([]), np.array([])\n",
    "        \n",
    "    # GP fit. hyper-param을 잘 선택해야함.    \n",
    "    def fit(self, X, Y):\n",
    "        K = RBF(length_scale=5000)\n",
    "        gp = GaussianProcessRegressor(kernel=K)\n",
    "        gp.fit(X,Y)\n",
    "        return gp\n",
    "    \n",
    "    \n",
    "    def choose_next_sample(self):\n",
    "        \n",
    "        if self.X.shape[0] < self.n_random_draws:\n",
    "            next_sample = np.random.uniform(self.bounds[0], self.bounds[1],1)[0]\n",
    "            \n",
    "        else : \n",
    "            # GP fit\n",
    "            self.gp = self.fit(self.X.reshape(-1,1), self.Y)\n",
    "            \n",
    "            # 사후분포중 하나를 샘플링.\n",
    "            posterior_sample = self.gp.sample_y(self.X_grid.reshape(-1,1), 1).T[0]\n",
    "            \n",
    "            # 다음테스트 포인트 선택\n",
    "            which_max = np.argmax(posterior_sample)\n",
    "            next_sample = self.X_grid[which_max]\n",
    "            \n",
    "            # 평균, 분산 계산.\n",
    "            posterior_mean , posterior_std = self.gp.predict(self.X_grid.reshape(-1,1), return_std=True)\n",
    "        \n",
    "        next_observation = self.objective(next_sample)\n",
    "        self.X = np.append(self.X, next_sample)\n",
    "        self.Y = np.append(self.Y, next_observation)\n",
    "        \n",
    "        try :\n",
    "            return self.X, self.Y, self.X_grid, posterior_sample, posterior_mean, posterior_std\n",
    "        \n",
    "        except:\n",
    "            return self.X, self.Y, self.X_grid, np.array([np.mean(self.Y)]*self.interval_resolution), np.array([np.mean(self.Y)]*self.interval_resolution), np.array([0]*self.interval_resolution) "
   ]
  },
  {
   "cell_type": "code",
   "execution_count": null,
   "metadata": {},
   "outputs": [],
   "source": [
    "def ts_gp_plotting(ts_gp, max_rounds):\n",
    "    \n",
    "    round_dict = {}\n",
    "    \n",
    "    for round_id in range(max_rounds):\n",
    "        \n",
    "        x_obs, y_obs, x_grid, post_sample , post_mean, post_std = ts_gp.choose_next_sample()\n",
    "        \n",
    "        round_dict[round_id] = {'x_obs' : x_obs,\n",
    "                               'y_obs' : y_obs, \n",
    "                               'x_grid' : x_grid,\n",
    "                               'post_sample' : post_sample,\n",
    "                               'post_mean' : post_mean, \n",
    "                               'post_std' : post_std}\n",
    "        \n",
    "    fig, ax = plt.subplots(figsize=[10,4], dpi=150)\n",
    "    \n",
    "    ax.plot(X,Y, 'k--', linewidth=2, label='actual function')\n",
    "    ax.plot(round_dict[0]['x_obs'], round_dict[0]['y_obs'], 'bo', label=\"GP- sample obj func\",\n",
    "            alpha=0.7)\n",
    "    ax.plot(round_dict[0]['x_grid'], round_dict[0]['post_sample'], 'r', linewidth=2, label='sample from posterior',\n",
    "            alpha=0.7)\n",
    "    ax.fill_between(round_dict[0]['x_grid'], round_dict[0]['post_mean']-round_dict[0]['post_std'],\n",
    "                    round_dict[0]['post_mean']+round_dict[0]['post_std'], alpha=0.2, color='r')\n",
    "    plt.title(\"\"\"obj function TS-GP optimizaion\"\"\", fontsize=14)\n",
    "    plt.xlabel('$x$')\n",
    "    plt.ylabel('$y$')\n",
    "    ax.set_ylim(0,4000)\n",
    "        \n",
    "    def animate(i):\n",
    "        ax.clear()\n",
    "        ax.plot(X,Y, 'k--', linewidth=2, label='actual func')\n",
    "        ax.plot(round_dict[i]['x_obs'], round_dict[i]['y_obs'], 'bo', label=\"GP- sample obj func\",\n",
    "            alpha=0.7)\n",
    "        ax.plot(round_dict[i]['x_grid'], round_dict[i]['post_sample'], 'r', linewidth=2, label='sample from posterior',\n",
    "                alpha=0.7)\n",
    "        ax.fill_between(round_dict[i]['x_grid'], round_dict[i]['post_mean']-round_dict[i]['post_std'],\n",
    "                        round_dict[i]['post_mean']+round_dict[i]['post_std'], alpha=0.2, color='r')\n",
    "        plt.title(\"\"\"obj function at TS-GP optimizaion\"\"\", fontsize=14)\n",
    "        plt.xlabel('$x$')\n",
    "        plt.ylabel('$y$')\n",
    "        ax.set_ylim(0,4000)\n",
    "        return ()\n",
    "\n",
    "    anim = FuncAnimation(fig, animate, frames=max_rounds, interval=3500, blit=True)\n",
    "\n",
    "    return HTML(anim.to_html5_video())"
   ]
  },
  {
   "cell_type": "code",
   "execution_count": null,
   "metadata": {},
   "outputs": [],
   "source": [
    "ts_gp = thompsonGP(n_random_draws=3, objective=obj_func, x_bound = (0,50000))\n",
    "\n",
    "X = np.linspace(0, 50000, 10000)\n",
    "Y = obj_func(X)"
   ]
  },
  {
   "cell_type": "code",
   "execution_count": null,
   "metadata": {},
   "outputs": [],
   "source": [
    "ts_gp_plotting(ts_gp, 20)"
   ]
  },
  {
   "cell_type": "markdown",
   "metadata": {},
   "source": [
    "### 문제점\n",
    "* GP의 hyper-param 선택이 문제.\n",
    "* 적절한 mean-fucntion도 고려해야함"
   ]
  },
  {
   "cell_type": "markdown",
   "metadata": {},
   "source": [
    "### 3. more demand theory\n",
    "* 가격이 $p_k$ 인 상품을 구매하는 소비자라면, 가격이 $p_k$ 이하인 경우는 항상 구매함\n",
    "* 소비자들마다 각각의 상품에 대한 상한가가 있음.\n",
    "    * $\\theta_k$ 는 $p_k$를 구매하는 최고가임. 수식적으로, $\\theta_k - p_k >0$ 이고, $\\theta_k - p_{k+1} < 0$ 임.\n",
    "* 반복적으로 구매 되는 상품이라면 구매의 경계를 정할수있음.\n",
    "    * 상품을 3원에 구입했고, 8원에는 하지않았음. 또 2원에 구입했고 6원에도 하지않았음. 정보를 토대로한 이 상품의 실제 선호 경계는 3원과 6원 사이일것.\n",
    "\n",
    "\n",
    "**notation**\n",
    "* $n_{s,t}$ : t 시점에서 s그룹의 가격실험횟수\n",
    "* $D(p_k)_{s,t} \\in (0,1)$. 고객들의 가격수요경계에따라 달라짐\n",
    "* $p_s^{min}$ : s 그룹의 모든 고객이 수용할 수 있는 금액 최대치.\n",
    "* $p_s^{max}$ : s 그룹의 모든 고객이 수용 못하는 금액의 최저치"
   ]
  },
  {
   "cell_type": "code",
   "execution_count": null,
   "metadata": {},
   "outputs": [],
   "source": []
  }
 ],
 "metadata": {
  "kernelspec": {
   "display_name": "Python 3",
   "language": "python",
   "name": "python3"
  },
  "language_info": {
   "codemirror_mode": {
    "name": "ipython",
    "version": 3
   },
   "file_extension": ".py",
   "mimetype": "text/x-python",
   "name": "python",
   "nbconvert_exporter": "python",
   "pygments_lexer": "ipython3",
   "version": "3.7.3"
  }
 },
 "nbformat": 4,
 "nbformat_minor": 2
}
