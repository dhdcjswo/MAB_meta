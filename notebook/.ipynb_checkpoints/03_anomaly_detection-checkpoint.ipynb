{
 "cells": [
  {
   "cell_type": "markdown",
   "metadata": {},
   "source": [
    "## Description\n",
    "유사한 질병간 분류를 도와주는 biomarker 'X'의 효용성에 대해서 평가하려고 한다.각 질병을 가진 환자를 대상으로 실험을 진행해야할 필요가 있고 특정 질병의 환자들에서 'X'의 존재가 많다는 결과가 나오길 바란다.이 경우에 각각의 질병은 Multi-Armed-Bandit(MAB) 기준으로 각 arm 이라고 할 수 있다. 조사자는 순차적으로 각 질병의 환자들을 테스트 해서 'X' 의 수치를 검사한다.만약 어떤 환자에게서 X가 발견이 되면 reward로 1, 발견되지 않으면 0. biomarker 'X' 의 효용성의 근거를 뒷받침하기 위해서는 특정 질병군의 기대 reward 가 차이나게 다른질병보다 높아야한다.단순히 가장 높은게 아니라 아웃라이어처럼 극단적으로 높아야함. 동시에 최소한의 비용으로 테스트를 해야함"
   ]
  },
  {
   "cell_type": "markdown",
   "metadata": {},
   "source": [
    "* outlier arm\n",
    "* 기준은 3 alpha"
   ]
  },
  {
   "cell_type": "markdown",
   "metadata": {},
   "source": [
    "## setting\n",
    "\n",
    "* outlier arm은 다른 arm보다 훨신 높은 기대 보상을 가짐\n",
    "* outlier arm의 기준은 통계에서 일반적으로 사용하는 k - sigma\n",
    "* 평균은 $\\mu$, 편차를 $\\sigma$ 라고 하면, outlier의 threshold는 다음과 같다\n",
    "$$\n",
    "\\theta = \\mu + k\\sigma\n",
    "$$\n",
    "\n",
    "\n",
    "\n"
   ]
  },
  {
   "cell_type": "code",
   "execution_count": 17,
   "metadata": {},
   "outputs": [],
   "source": [
    "import numpy as np\n",
    "from scipy import stats"
   ]
  },
  {
   "cell_type": "code",
   "execution_count": 121,
   "metadata": {},
   "outputs": [],
   "source": [
    "class MAB():\n",
    "    \n",
    "    def __init__(self, prob):\n",
    "        self.prob = prob\n",
    "        self.n_arms = len(prob)\n",
    "        \n",
    "        \n",
    "    def draw(self):\n",
    "        \n",
    "        reward = []\n",
    "        for i in range(self.n_arms):\n",
    "            reward.append(np.random.binomial(1,self.prob[i],1)[0])\n",
    "        \n",
    "        return reward\n",
    "        \n",
    "\n",
    "def estimate(n, mab):\n",
    "    \n",
    "    reward_array = np.zeros((3,n))\n",
    "    \n",
    "    for i in range(n):\n",
    "        reward_array[:,i] = mab.draw()\n",
    "        mu = reward_array[:,:i].mean(axis=1).mean()\n",
    "        sd = np.sqrt(np.mean((mu - reward_array[:,:i].mean(axis=1))**2))\n",
    "        theta = mu + 3*sd\n",
    "        \n",
    "        if (theta < reward_array[:,:i].mean(axis=1)).sum() != 0:\n",
    "            break\n",
    "    \n",
    "    k = np.where((theta < reward_array[:,:i].mean(axis=1))==1)[0]\n",
    "    return reward_array, mu, sd\n",
    "    "
   ]
  },
  {
   "cell_type": "code",
   "execution_count": 122,
   "metadata": {},
   "outputs": [],
   "source": [
    "prob = [0.3, 0.6, 0.7]\n",
    "mab = MAB(prob)"
   ]
  },
  {
   "cell_type": "code",
   "execution_count": 141,
   "metadata": {},
   "outputs": [
    {
     "name": "stderr",
     "output_type": "stream",
     "text": [
      "C:\\Users\\dhdcj\\Anaconda3\\lib\\site-packages\\ipykernel_launcher.py:23: RuntimeWarning: Mean of empty slice.\n",
      "C:\\Users\\dhdcj\\Anaconda3\\lib\\site-packages\\ipykernel_launcher.py:24: RuntimeWarning: Mean of empty slice.\n",
      "C:\\Users\\dhdcj\\Anaconda3\\lib\\site-packages\\ipykernel_launcher.py:27: RuntimeWarning: Mean of empty slice.\n",
      "C:\\Users\\dhdcj\\Anaconda3\\lib\\site-packages\\ipykernel_launcher.py:27: RuntimeWarning: invalid value encountered in less\n"
     ]
    }
   ],
   "source": [
    "r, mu, sd = estimate(5000 , mab)"
   ]
  },
  {
   "cell_type": "code",
   "execution_count": 142,
   "metadata": {},
   "outputs": [
    {
     "data": {
      "text/plain": [
       "0.170101484034649"
      ]
     },
     "execution_count": 142,
     "metadata": {},
     "output_type": "execute_result"
    }
   ],
   "source": [
    "sd"
   ]
  },
  {
   "cell_type": "code",
   "execution_count": 82,
   "metadata": {},
   "outputs": [],
   "source": [
    "def update_delta(delta, n, T):\n",
    "    return (6*delta)/((np.pi**2)*(n+1)*(T**2))"
   ]
  },
  {
   "cell_type": "code",
   "execution_count": 81,
   "metadata": {},
   "outputs": [
    {
     "data": {
      "text/plain": [
       "3.141592653589793"
      ]
     },
     "execution_count": 81,
     "metadata": {},
     "output_type": "execute_result"
    }
   ],
   "source": [
    "z\n",
    "p_hat = (success + \n",
    "beta_i = \n",
    "beta_theta = "
   ]
  },
  {
   "cell_type": "markdown",
   "metadata": {},
   "source": [
    "## Algorithms\n",
    "### 3.1 Round - Robin Algorithms\n",
    "arm 을 차례대로 연속적으로 선택하는 방식(arm1 -> arm2 -> arm3 -> arm1...) 이며 조건에 부합하는 순간 종료. 특정 arm이 outlier로 판단되면 종료된다.\n",
    "\n",
    "각각의 arm의 confidence interval이 겹치지 않게 되면 종료. 특정 arm의 평균과 threshold와의 각 confidence interval이 겹치지 않는다면 outlier라 판단못함\n",
    "\n",
    "$$\n",
    "CI(y) = R\\sqrt{\\frac {1} {2m_i} log(\\frac {1} {\\delta'})} \\\\\n",
    "CI(threshold) = R\\sqrt{\\frac {l(k)} {2h(m)} log(\\frac {1} {\\delta'})} \n",
    "$$\n",
    "R = b - a ( boundary)"
   ]
  },
  {
   "cell_type": "code",
   "execution_count": 85,
   "metadata": {},
   "outputs": [],
   "source": []
  },
  {
   "cell_type": "code",
   "execution_count": 110,
   "metadata": {},
   "outputs": [
    {
     "name": "stderr",
     "output_type": "stream",
     "text": [
      "C:\\Users\\dhdcj\\Anaconda3\\lib\\site-packages\\ipykernel_launcher.py:23: RuntimeWarning: Mean of empty slice.\n",
      "C:\\Users\\dhdcj\\Anaconda3\\lib\\site-packages\\ipykernel_launcher.py:24: RuntimeWarning: Mean of empty slice.\n",
      "C:\\Users\\dhdcj\\Anaconda3\\lib\\site-packages\\ipykernel_launcher.py:27: RuntimeWarning: Mean of empty slice.\n",
      "C:\\Users\\dhdcj\\Anaconda3\\lib\\site-packages\\ipykernel_launcher.py:27: RuntimeWarning: invalid value encountered in less\n"
     ]
    },
    {
     "data": {
      "text/plain": [
       "(array([[0., 0., 1., ..., 0., 0., 0.],\n",
       "        [1., 0., 1., ..., 0., 1., 0.],\n",
       "        [1., 1., 0., ..., 0., 1., 1.]]),\n",
       " array([], dtype=int32))"
      ]
     },
     "execution_count": 110,
     "metadata": {},
     "output_type": "execute_result"
    }
   ],
   "source": []
  },
  {
   "cell_type": "code",
   "execution_count": 92,
   "metadata": {},
   "outputs": [
    {
     "data": {
      "text/plain": [
       "array([0.01, 0.  , 0.01])"
      ]
     },
     "execution_count": 92,
     "metadata": {},
     "output_type": "execute_result"
    }
   ],
   "source": []
  },
  {
   "cell_type": "code",
   "execution_count": 102,
   "metadata": {},
   "outputs": [
    {
     "data": {
      "text/plain": [
       "(array([0, 1, 2], dtype=int32),)"
      ]
     },
     "execution_count": 102,
     "metadata": {},
     "output_type": "execute_result"
    }
   ],
   "source": []
  },
  {
   "cell_type": "code",
   "execution_count": null,
   "metadata": {},
   "outputs": [],
   "source": []
  }
 ],
 "metadata": {
  "kernelspec": {
   "display_name": "Python 3",
   "language": "python",
   "name": "python3"
  },
  "language_info": {
   "codemirror_mode": {
    "name": "ipython",
    "version": 3
   },
   "file_extension": ".py",
   "mimetype": "text/x-python",
   "name": "python",
   "nbconvert_exporter": "python",
   "pygments_lexer": "ipython3",
   "version": "3.7.3"
  }
 },
 "nbformat": 4,
 "nbformat_minor": 4
}
