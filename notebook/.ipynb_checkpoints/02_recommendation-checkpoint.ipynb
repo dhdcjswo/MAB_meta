{
 "cells": [
  {
   "cell_type": "markdown",
   "metadata": {},
   "source": [
    "## recommendation\n",
    "Multi-armed-bandit(MAB)는 단순히 AB 테스트의 확장을 넘어서 추천알고리즘으로도 많이 사용되고 있다. 특히 넷플릭스는 MAB를 적극활용한 추천시스템을 제공하고 있다. 사실 기본적인 원리와 바탕은 일반적인 MAB와 동일하다. 다만 목적에 따라 달리 사용되는 그 '아이디어'와 사고의 흐름은 알아야 할 것 같다.  \n",
    "AB테스트는 서로다른 대안에 대해서 더 나은 안, 더 전환율이 높은 안을 선택하는 가장 직관적이고 효과적인 방법이다. MAB는 AB테스트와 달리 매 시기마다 유저정보를 통해 학습하고 업데이트되며, 이러한 내용은 실시간으로 유저들에게 제공된다. **추천**도 마찬가지이다. 전환율의 개념을 동일하게 추천에 적용할 수 있다. 유저들이 좋아할만한 내용, 더많이 클릭할 만한 내용들을 추천하여 결과적으로 전환율을 높이는 것이고 이는 기존의 AB테스트나 MAB의 원리와 동일하다."
   ]
  },
  {
   "cell_type": "markdown",
   "metadata": {},
   "source": [
    "## 1. basic approach\n",
    "\n",
    "기본적으로 유저들의 클러스터를 미리 나누어 분석하려고 한다.\n",
    "\n",
    "### setting \n",
    "* bandit은 추천하는 서비스의 종류. 예를들면 영화의 장르\n",
    "* 유저마다 클러스터가 구분되어있음. 영화 선호별 구분이 이미 되어있음.\n",
    "* 구분된 클러스터별 binary bandit의 확률이 다름. -> 영화에 대한 선호가 다름.\n",
    "* 목적은 클러스터별 전환율이 높은 서비스를 제공하는것. 선호하는 영화를 추천해주는것"
   ]
  },
  {
   "cell_type": "code",
   "execution_count": 443,
   "metadata": {},
   "outputs": [],
   "source": [
    "import numpy as np\n",
    "import pandas as pd\n",
    "import matplotlib.pyplot as plt\n",
    "from scipy.optimize import minimize"
   ]
  },
  {
   "cell_type": "code",
   "execution_count": 4,
   "metadata": {},
   "outputs": [],
   "source": [
    "def draw(param_prob, k):\n",
    "    \"\"\"\n",
    "    ex) bandit_list = ['cont1','cont2',...,'contN']\n",
    "        k = 0 -> 'cont1'\n",
    "        param_prob : 해당 bandit의 전환율 , unknown\n",
    "    \"\"\"\n",
    "    \n",
    "    reward = np.random.binomial(1, param_prob[k])\n",
    "    regret = np.max(param_prob) - param_prob[k]\n",
    "    return reward, regret\n",
    "        \n",
    "\n",
    "    \n",
    "class policy:    \n",
    "    \n",
    "        \n",
    "    def epsilon(self, success, fail, epsilon):\n",
    "        \n",
    "        if np.random.rand() < epsilon or success.sum()==0:\n",
    "            k = np.random.randint(0,len(success),1)[0]\n",
    "    \n",
    "        else :\n",
    "#           mean, var = calculator(1+success, 1+fail) 베타분포를 이용하는경우\n",
    "            mean = success/(success+fail)\n",
    "            k = np.argmax(mean)\n",
    "        return k    \n",
    "    \n",
    "    \n",
    "    \n",
    "    def thompson(self, success, fail, epsilon):\n",
    "        \"\"\"\n",
    "        output: 선택된 bandit 번호\n",
    "        \"\"\"\n",
    "       # exploration : 랜덤선택\n",
    "        if np.random.rand() < epsilon:\n",
    "            k = np.random.randint(0,len(success),1)[0]\n",
    "\n",
    "        # exploitation : 샘플링\n",
    "        else :\n",
    "            rvs = np.random.beta(1+success, 1+fail)\n",
    "            k = np.argmax(rvs)\n",
    "        return k    \n",
    "    \n",
    "    def UCB(self, success, fail, epsilon):\n",
    "        # exploration : 랜덤선택\n",
    "        if np.random.rand() < epsilon or success.sum()==0:\n",
    "            k = np.random.randint(0,len(success),1)[0]\n",
    "\n",
    "        # exploitation : upper confidence bound\n",
    "        else :\n",
    "            Q = (success/(success+fail)) # 각 bandit의 평균 성공확률\n",
    "            c = 2\n",
    "            N = success+fail # 각 bandit의 총 선택된 횟수.\n",
    "            k = np.argmax(Q + c*np.sqrt(np.log(N.sum())/N))\n",
    "        return k    \n",
    "    "
   ]
  },
  {
   "cell_type": "code",
   "execution_count": 8,
   "metadata": {},
   "outputs": [],
   "source": [
    "n_cluster=8\n",
    "n_bandit = 10\n",
    "n_draws = 500\n",
    "\n",
    "reward_array = {}\n",
    "count_array = {}\n",
    "regret_array = {}\n",
    "\n",
    "for i in range(n_cluster):\n",
    "    reward_array[i] = np.zeros((n_bandit, n_draws))\n",
    "    count_array[i] = np.zeros((n_bandit, n_draws))\n",
    "    regret_array[i] = np.zeros((n_bandit, n_draws))\n"
   ]
  },
  {
   "cell_type": "code",
   "execution_count": 10,
   "metadata": {},
   "outputs": [],
   "source": [
    "param_prob = [np.random.random(n_bandit)*0.5 for i in range(n_cluster)] # 클러스터별 bandit의 모수 set\n",
    "cl_info = np.random.randint(0,n_cluster,1)[0] # 추후 클러스트 분류도 다시 생각해야할듯.\n",
    "\n",
    "success = reward_array[cl_info].sum(axis=1)\n",
    "fail = count_array[cl_info].sum(axis=1) - success\n"
   ]
  },
  {
   "cell_type": "code",
   "execution_count": 11,
   "metadata": {},
   "outputs": [],
   "source": [
    "pc = policy()\n",
    "k = pc.thompson(success, fail, 0.1)\n",
    "reward, regret = draw(param_prob[cl_info], k)"
   ]
  },
  {
   "cell_type": "code",
   "execution_count": 12,
   "metadata": {},
   "outputs": [],
   "source": [
    "reward_array[cl_info][0, k] = reward\n",
    "count_array[cl_info][0, k] = 1"
   ]
  },
  {
   "cell_type": "code",
   "execution_count": 161,
   "metadata": {},
   "outputs": [],
   "source": [
    "def simulator(n_cl, n_band, n_draw):\n",
    "    n_cluster = n_cl\n",
    "    n_bandit = n_band\n",
    "    n_draws = n_draw\n",
    "\n",
    "    reward_array = {}\n",
    "    count_array = {}\n",
    "    regret_array = {}\n",
    "\n",
    "    for i in range(n_cluster):\n",
    "        reward_array[i] = np.zeros((n_bandit, n_draws))\n",
    "        count_array[i] = np.zeros((n_bandit, n_draws))\n",
    "        regret_array[i] = np.zeros((n_bandit, n_draws))\n",
    "\n",
    "        \n",
    "    param_prob = [np.random.random(n_bandit)*0.5 for i in range(n_cluster)] # 클러스터별 bandit의 모수 set\n",
    "   \n",
    "    \n",
    "    for i in range(n_draws):\n",
    "        \n",
    "        for j in range(n_cluster):\n",
    "        \n",
    "        # 해당클러스터 계산\n",
    "            success = reward_array[j].sum(axis=1)\n",
    "            fail = count_array[j].sum(axis=1) - success\n",
    "\n",
    "            pc = policy()\n",
    "            k = pc.thompson(success, fail, 0.1) # \n",
    "            reward, regret = draw(param_prob[j], k)\n",
    "\n",
    "            reward_array[j][k, i] = reward\n",
    "            count_array[j][k, i] = 1\n",
    "            regret_array[j][k, i] = regret\n",
    "    \n",
    "    return reward_array, count_array, regret_array, param_prob"
   ]
  },
  {
   "cell_type": "code",
   "execution_count": 162,
   "metadata": {},
   "outputs": [],
   "source": [
    "reward,count,regret,param = simulator(5,5,1000)"
   ]
  },
  {
   "cell_type": "code",
   "execution_count": 185,
   "metadata": {},
   "outputs": [
    {
     "data": {
      "text/plain": [
       "<matplotlib.legend.Legend at 0x9f1dbd0>"
      ]
     },
     "execution_count": 185,
     "metadata": {},
     "output_type": "execute_result"
    },
    {
     "data": {
      "image/png": "[encoded data removed]",
      "text/plain": [
       "<Figure size 432x288 with 1 Axes>"
      ]
     },
     "metadata": {
      "needs_background": "light"
     },
     "output_type": "display_data"
    }
   ],
   "source": [
    "for i in range(5):\n",
    "    plt.plot(regret[i].sum(axis=0).cumsum()/(np.arange(1000)+1), label=f'cluster:{i+1}')\n",
    "plt.legend()\n",
    "plt.title('Expected regret')"
   ]
  },
  {
   "cell_type": "markdown",
   "metadata": {},
   "source": [
    "## 2.logistic bandit\n",
    "\n",
    "* 각 feature의 linear combination을 통해 가장 높은 값을 가지는 option이 선택됨\n",
    "* policy 선택과정이 필요 없는걸까\n"
   ]
  },
  {
   "cell_type": "code",
   "execution_count": 384,
   "metadata": {},
   "outputs": [],
   "source": [
    "import pandas as pd\n",
    "from scipy import stats\n",
    "from sklearn.linear_model import LogisticRegression\n",
    "import matplotlib.pyplot as plt\n",
    "import warnings \n",
    "warnings.filterwarnings('ignore')\n",
    "\n",
    "# 기본 세팅\n",
    "n_user = 1000 # 1000명의 유저\n",
    "n_feature = 2 # 고객정보 수\n",
    "n_movies = 4 # 제공 option 수\n",
    "\n",
    "sex = np.random.binomial(1, 0.5, n_user) # 성별\n",
    "data = stats.gamma(10, scale = 3).rvs(n_user)\n",
    "age= list(map(int, data)) # 나이\n",
    "const = np.ones(n_user) # 상수항\n",
    "\n",
    "D = np.array([sex,age,const]).T # feature 데이터 셋\n",
    "reward = np.random.randint(0,2,1000) # 랜덤 reward\n",
    "\n",
    "# 1000명의 데이터로 추론한 모수값(feature beta)\n",
    "logreg = LogisticRegression(fit_intercept=False)\n",
    "logreg.fit(D, reward)\n",
    "\n",
    "# option별 차이 및 노이즈\n",
    "n1 = [logreg.coef_[0][0]*0.1 * np.random.random(1)[0] for i in range(4)]\n",
    "n2 = [logreg.coef_[0][1]*0.1 * np.random.random(1)[0] for i in range(4)]\n",
    "n3 = [logreg.coef_[0][2]*0.1 * np.random.random(1)[0] for i in range(4)]"
   ]
  },
  {
   "cell_type": "code",
   "execution_count": 385,
   "metadata": {},
   "outputs": [],
   "source": [
    "# 실제로 우리가 모르는 모수가 존재함.\n",
    "# 실제 모수에 의해서 값이결정되는 과정.\n",
    "# bandit k 마다 모수가 다름.\n",
    "class MAB:\n",
    "    \n",
    "    def __init__(self):\n",
    "        self.weights = {}\n",
    "        self.weights[0] = [logreg.coef_[0][0]+n1[0], logreg.coef_[0][1]+n2[0], logreg.coef_[0][2]+n3[0]]\n",
    "        self.weights[1] = [logreg.coef_[0][0]+n1[1], logreg.coef_[0][1]+n2[1], logreg.coef_[0][2]+n3[0]]\n",
    "        self.weights[2] = [logreg.coef_[0][0]+n1[2], logreg.coef_[0][1]+n2[2], logreg.coef_[0][2]+n3[0]]\n",
    "        self.weights[3] = [logreg.coef_[0][0]+n1[3], logreg.coef_[0][1]+n2[3], logreg.coef_[0][2]+n3[0]]\n",
    "\n",
    "    def draw(self, k, x):\n",
    "        \"\"\"\n",
    "        k: 선택된 bandit(option) number\n",
    "        x: context.\n",
    "        \"\"\"\n",
    "        \n",
    "        prob_dict = {}\n",
    "        for bandit in self.weights.keys():\n",
    "            f_x = self.weights[bandit][0]*x[0] + self.weights[bandit][1]*x[1] + self.weights[bandit][2]*x[2]\n",
    "            prob = 1/(1+np.exp(-f_x))\n",
    "            prob_dict[bandit] = prob\n",
    "            \n",
    "        reward = np.random.binomial(1,p=prob_dict[k])\n",
    "        regret = max(prob_dict.values()) - prob_dict[k]\n",
    "        prob = prob_dict[k]\n",
    "        return reward,regret, prob\n",
    "    \n",
    "\n",
    "# 과거 데이터 / 선택된 bandit(option), x는 linear combination, 결과feedback.\n",
    "class linear_bandit:\n",
    "    \n",
    "    def __init__(self, n_bandits):\n",
    "        # 실제 정보 \n",
    "        self.n_bandits = n_bandits\n",
    "        self.epsilon = 0.1\n",
    "        self.coef = []\n",
    "            \n",
    "    def fit(self, data, actual_x):\n",
    "        \n",
    "        # sgd object\n",
    "        logreg = LogisticRegression(fit_intercept=False)\n",
    "        \n",
    "        # fitting to data\n",
    "        logreg.fit(data.iloc[:,1:-1].values, data['reward'])\n",
    "        \n",
    "        self.coef.append(logreg.coef_[0])\n",
    "        \n",
    "        # returning probabilities\n",
    "        return logreg.predict_proba(actual_x)[0][1]\n",
    "    \n",
    "    def choose_bandit(self, round_df, actual_x):\n",
    "        \n",
    "        # 초기 데이터가 많이 없는 경우는 random하게 선택해버림\n",
    "        if round_df.groupby(['k','reward']).size().shape[0] != 8: # 각 bandit별 reward(0,1) 데이터가 모두  나옴\n",
    "            best_bandit = np.random.randint(0,self.n_bandits,1)[0]\n",
    "            \n",
    "            return best_bandit\n",
    "        \n",
    "        # 데이터가 충분한 경우 과거데이터 + feature 종합. theta 계산 가능\n",
    "        else :\n",
    "            # predictinng for two of our datasets\n",
    "            bandit_scores = round_df.groupby('k').apply(self.fit, actual_x=actual_x)\n",
    "\n",
    "            # get best bandit\n",
    "            best_bandit = int(bandit_scores.idxmax())    \n",
    "        \n",
    "        \n",
    "        # epsilon 만큼의 탐색. 이건 조건적으로 넣고 뺴도됨.\n",
    "        if np.random.random(1) < self.epsilon:\n",
    "            best_bandit = np.random.randint(0,self.n_bandits,1)[0]\n",
    "        else :\n",
    "            pass    \n",
    "        \n",
    "        return best_bandit\n",
    "        "
   ]
  },
  {
   "cell_type": "code",
   "execution_count": 394,
   "metadata": {},
   "outputs": [],
   "source": [
    "lb = linear_bandit(4)\n",
    "mab = MAB()\n",
    "\n",
    "k_list = []\n",
    "reward_list = []\n",
    "regret_list= []\n",
    "round_df=pd.DataFrame({'k':[],'x1':[],'x2':[],'x3':[] ,'reward':[]})\n",
    "\n",
    "user = D\n",
    "k = lb.choose_bandit(round_df, user)\n",
    "x = user[0]\n",
    "reward,regret, prob = mab.draw(k, x)"
   ]
  },
  {
   "cell_type": "code",
   "execution_count": 395,
   "metadata": {},
   "outputs": [],
   "source": [
    "N_DRAW = 1000\n",
    "for i in range(N_DRAW):\n",
    "    k = lb.choose_bandit(round_df, user)\n",
    "    x = user[i]\n",
    "    reward,regret, prob = mab.draw(k, x)\n",
    "    temp_df = pd.DataFrame({'k': k, 'x1': x[0], 'x2':x[1],'x3':x[2],'reward': reward}, index=[i])\n",
    "    round_df = pd.concat([round_df, temp_df])\n",
    "    \n",
    "    k_list.append(k)\n",
    "    reward_list.append(reward)\n",
    "    regret_list.append(regret)"
   ]
  },
  {
   "cell_type": "code",
   "execution_count": 431,
   "metadata": {},
   "outputs": [
    {
     "data": {
      "text/plain": [
       "[<matplotlib.lines.Line2D at 0xe218e10>]"
      ]
     },
     "execution_count": 431,
     "metadata": {},
     "output_type": "execute_result"
    },
    {
     "data": {
      "image/png": "[encoded data removed]",
      "text/plain": [
       "<Figure size 432x288 with 1 Axes>"
      ]
     },
     "metadata": {
      "needs_background": "light"
     },
     "output_type": "display_data"
    }
   ],
   "source": [
    "# 나이 변수에 따른 확률값 p 차이\n",
    "x = np.linspace(20,40,100)\n",
    "f_x1 = mab.weights[0][1]*x + mab.weights[0][2]\n",
    "f_x2 = mab.weights[0][0] + mab.weights[0][1]*x + mab.weights[0][2]\n",
    "p1 = 1/(1+ np.exp(f_x1))\n",
    "p2 = 1/(1+ np.exp(f_x2))\n",
    "plt.plot(x,p1)\n",
    "plt.plot(x,p2)"
   ]
  },
  {
   "cell_type": "code",
   "execution_count": 437,
   "metadata": {},
   "outputs": [
    {
     "data": {
      "text/plain": [
       "(array([254.,   0.,   0., 252.,   0.,   0.,   2.,   0.,   0., 492.]),\n",
       " array([0. , 0.3, 0.6, 0.9, 1.2, 1.5, 1.8, 2.1, 2.4, 2.7, 3. ]),\n",
       " <a list of 10 Patch objects>)"
      ]
     },
     "execution_count": 437,
     "metadata": {},
     "output_type": "execute_result"
    },
    {
     "data": {
      "image/png": "[encoded data removed]",
      "text/plain": [
       "<Figure size 432x288 with 1 Axes>"
      ]
     },
     "metadata": {
      "needs_background": "light"
     },
     "output_type": "display_data"
    }
   ],
   "source": [
    "# 가장 확률값이 높은 경우\n",
    "plt.hist(np.matmul(D,th.T).argmax(axis=1))"
   ]
  },
  {
   "cell_type": "markdown",
   "metadata": {},
   "source": [
    "## 3.Multivariate\n",
    "* 제공하는 옵션이 multiple인 경우는 ..?\n",
    "* 무엇에 따른 전환유무 차이인지 알 수 있을까?"
   ]
  },
  {
   "cell_type": "markdown",
   "metadata": {},
   "source": [
    "## 4.Mini-batch"
   ]
  },
  {
   "cell_type": "markdown",
   "metadata": {},
   "source": [
    "## 5.Dirichlet Process"
   ]
  },
  {
   "cell_type": "code",
   "execution_count": 1943,
   "metadata": {},
   "outputs": [
    {
     "data": {
      "text/plain": [
       "1000"
      ]
     },
     "execution_count": 1943,
     "metadata": {},
     "output_type": "execute_result"
    }
   ],
   "source": []
  },
  {
   "cell_type": "code",
   "execution_count": 439,
   "metadata": {},
   "outputs": [],
   "source": [
    "class OnlineLogisticRegression:\n",
    "    \n",
    "    # initializing\n",
    "    def __init__(self, lambda_, alpha, n_dim):\n",
    "        \n",
    "        # the only hyperparameter is the deviation on the prior (L2 regularizer)\n",
    "        self.lambda_ = lambda_\n",
    "        self.alpha = alpha # exploitation/exploration 가중.\n",
    "                \n",
    "        # initializing parameters of the model\n",
    "        self.n_dim = n_dim, \n",
    "        self.m = np.zeros(self.n_dim)\n",
    "        self.q = np.ones(self.n_dim) * self.lambda_\n",
    "        \n",
    "        # initializing weights / 평균이 0이고 \n",
    "        self.w = np.random.normal(self.m, self.alpha * (self.q)**(-1.0), size = self.n_dim)\n",
    "        \n",
    "    # the loss function\n",
    "    def loss(self, w, *args):\n",
    "        X, y = args\n",
    "        return 0.5 * (self.q * (w - self.m)).dot(w - self.m) + np.sum([np.log(1 + np.exp(-y[j] * w.dot(X[j]))) for j in range(y.shape[0])])\n",
    "        \n",
    "    # the gradient\n",
    "    def grad(self, w, *args):\n",
    "        X, y = args\n",
    "        return self.q * (w - self.m) + (-1) * np.array([y[j] *  X[j] / (1. + np.exp(y[j] * w.dot(X[j]))) for j in range(y.shape[0])]).sum(axis=0)\n",
    "    \n",
    "    # method for sampling weights\n",
    "    def get_weights(self):\n",
    "        return np.random.normal(self.m, self.alpha * (self.q)**(-1.0), size = self.n_dim)\n",
    "    \n",
    "    # fitting method\n",
    "    def fit(self, X, y):\n",
    "                \n",
    "        # step 1, find w\n",
    "        self.w = minimize(self.loss, self.w, args=(X, y), jac=self.grad, method=\"L-BFGS-B\", options={'maxiter': 20, 'disp':True}).x\n",
    "        self.m = self.w\n",
    "        \n",
    "        # step 2, update q\n",
    "        P = (1 + np.exp(1 - X.dot(self.m))) ** (-1)\n",
    "        self.q = self.q + (P*(1-P)).dot(X ** 2)\n",
    "                \n",
    "    # probability output method, using weights sample\n",
    "    def predict_proba(self, X, mode='sample'):\n",
    "        \n",
    "        # adding intercept to X\n",
    "        #X = add_constant(X)\n",
    "        \n",
    "        # sampling weights after update\n",
    "        self.w = self.get_weights()\n",
    "        \n",
    "        # using weight depending on mode\n",
    "        if mode == 'sample':\n",
    "            w = self.w # weights are samples of posteriors\n",
    "        elif mode == 'expected':\n",
    "            w = self.m # weights are expected values of posteriors\n",
    "        else:\n",
    "            raise Exception('mode not recognized!')\n",
    "        \n",
    "        # calculating probabilities\n",
    "        proba = 1 / (1 + np.exp(-1 * X.dot(w)))\n",
    "        return np.array([1-proba , proba]).T"
   ]
  },
  {
   "cell_type": "code",
   "execution_count": 441,
   "metadata": {},
   "outputs": [],
   "source": [
    "class ContextualMAB:\n",
    "    \n",
    "    # initialization\n",
    "    def __init__(self):\n",
    "        \n",
    "        # we build two bandits\n",
    "        self.weights = {}\n",
    "        self.weights[0] = [0.0, 1.6]\n",
    "        self.weights[1] = [0.0, 0.4]\n",
    "    \n",
    "    # method for acting on the bandits\n",
    "    def draw(self, k, x):\n",
    "        \n",
    "        # probability dict\n",
    "        prob_dict = {}\n",
    "        \n",
    "        # loop for each bandit\n",
    "        for bandit in self.weights.keys():\n",
    "        \n",
    "            # linear function of external variable\n",
    "            f_x = self.weights[bandit][0] + self.weights[bandit][1]*x\n",
    "\n",
    "            # generate reward with probability given by the logistic\n",
    "            probability = 1/(1 + np.exp(-f_x))\n",
    "            \n",
    "            # appending to dict\n",
    "            prob_dict[bandit] = probability\n",
    "        \n",
    "        # give reward according to probability\n",
    "        return np.random.choice([0,1], p=[1 - prob_dict[k], prob_dict[k]]), max(prob_dict.values()) - prob_dict[k], prob_dict[k]"
   ]
  },
  {
   "cell_type": "code",
   "execution_count": 444,
   "metadata": {},
   "outputs": [],
   "source": [
    "cmab = ContextualMAB()\n",
    "X = np.random.uniform(-6, 6, 10)\n",
    "y = np.array([cmab.draw(0, x)[0] for x in X])\n",
    "\n",
    "# OLR object\n",
    "online_lr = OnlineLogisticRegression(0.5, 1, 1)\n",
    "online_lr.fit(X.reshape(-1,1), y)"
   ]
  },
  {
   "cell_type": "code",
   "execution_count": 451,
   "metadata": {},
   "outputs": [
    {
     "data": {
      "text/plain": [
       "array([4.44644029])"
      ]
     },
     "execution_count": 451,
     "metadata": {},
     "output_type": "execute_result"
    }
   ],
   "source": [
    "online_lr.q"
   ]
  },
  {
   "cell_type": "code",
   "execution_count": null,
   "metadata": {},
   "outputs": [],
   "source": [
    "# closing other figures\n",
    "plt.close('all')\n",
    "\n",
    "# let us check the distribution of weights and uncertainty bounds\n",
    "plt.figure(figsize=[9,3.5], dpi=150)\n",
    "\n",
    "# plotting the pdf of the weight distribution\n",
    "X_pdf = np.linspace(-4, 4, 1000)\n",
    "pdf = norm_dist(loc=online_lr.m, scale=online_lr.q**(-1.0)).pdf(X_pdf)\n",
    "\n",
    "# range and resolution of probability plot\n",
    "X_prob = np.linspace(-6, 6, 1000)\n",
    "p_dist = 1/(1 + np.exp(-X_prob * online_lr.m))\n",
    "p_dist_plus = 1/(1 + np.exp(-X_prob * (online_lr.m + 2*online_lr.q**(-1.0))))\n",
    "p_dist_minus = 1/(1 + np.exp(-X_prob * (online_lr.m - 2*online_lr.q**(-1.0))))\n",
    "\n",
    "# opening subplots\n",
    "ax1 = plt.subplot2grid((1, 5), (0, 0), colspan=2, rowspan=1)\n",
    "ax2 = plt.subplot2grid((1, 5), (0, 2), colspan=3, rowspan=1)\n",
    "\n",
    "# plotting distriution of weights\n",
    "ax1.plot(X_pdf, pdf, color='b', linewidth=2, alpha=0.5)\n",
    "ax1.plot([cmab.weights[0][1], cmab.weights[0][1]], [0, max(pdf)], 'k--', label='True $\\\\beta$', linewidth=1)\n",
    "ax1.fill_between(X_pdf, pdf, 0, color='b', alpha=0.2)\n",
    "\n",
    "# plotting probabilities\n",
    "ax2.plot(X_prob, p_dist, color='b', linewidth=2, alpha=0.5)\n",
    "ax2.fill_between(X_prob, p_dist_plus, p_dist_minus, color='b', alpha=0.2)\n",
    "ax2.scatter(X, y, c='k')\n",
    "\n",
    "# title and comments\n",
    "ax1.set_title('OLR estimate for $\\\\beta$', fontsize=10)\n",
    "ax1.set_xlabel('$\\\\beta$', fontsize=10); ax1.set_ylabel('$density$', fontsize=10)\n",
    "ax2.set_title('OLR estimate for $\\\\theta(x)$', fontsize=10)\n",
    "ax2.set_xlabel('$x$', fontsize=10); ax2.set_ylabel('$\\\\theta(x)$', fontsize=10)\n",
    "\n",
    "ax1.legend(fontsize=10)\n",
    "plt.tight_layout()\n",
    "plt.show()"
   ]
  }
 ],
 "metadata": {
  "kernelspec": {
   "display_name": "Python 3",
   "language": "python",
   "name": "python3"
  }
 },
 "nbformat": 4,
 "nbformat_minor": 2
}
