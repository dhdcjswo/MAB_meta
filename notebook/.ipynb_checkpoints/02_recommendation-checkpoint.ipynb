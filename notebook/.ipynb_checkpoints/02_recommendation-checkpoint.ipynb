{
 "cells": [
  {
   "cell_type": "markdown",
   "metadata": {},
   "source": [
    "## recommendation"
   ]
  },
  {
   "cell_type": "markdown",
   "metadata": {},
   "source": [
    "## 1. basic approach\n",
    "\n",
    "\n",
    "\n",
    "### setting \n",
    "* bandit은 추천하는 서비스의 종류. 예를들면 영화의 장르\n",
    "* 유저마다 클러스터가 구분되어있음. 영화 선호별 구분이 이미 되어있음.\n",
    "* 구분된 클러스터별 binary bandit의 확률이 다름. -> 영화에 대한 선호가 다름.\n",
    "* 목적은 클러스터별 전환율이 높은 서비스를 제공하는것. 선호하는 영화를 추천해주는것"
   ]
  },
  {
   "cell_type": "code",
   "execution_count": null,
   "metadata": {},
   "outputs": [],
   "source": [
    "import numpy as np\n",
    "import pandas as pd\n",
    "import matplotlib.pyplot as plt"
   ]
  },
  {
   "cell_type": "code",
   "execution_count": 4,
   "metadata": {},
   "outputs": [],
   "source": [
    "def draw(param_prob, k):\n",
    "    \"\"\"\n",
    "    ex) bandit_list = ['cont1','cont2',...,'contN']\n",
    "        k = 0 -> 'cont1'\n",
    "        param_prob : 해당 bandit의 전환율 , unknown\n",
    "    \"\"\"\n",
    "    \n",
    "    reward = np.random.binomial(1, param_prob[k])\n",
    "    regret = np.max(param_prob) - param_prob[k]\n",
    "    return reward, regret\n",
    "        \n",
    "\n",
    "    \n",
    "class policy:    \n",
    "    \n",
    "        \n",
    "    def epsilon(self, success, fail, epsilon):\n",
    "        \n",
    "        if np.random.rand() < epsilon or success.sum()==0:\n",
    "            k = np.random.randint(0,len(success),1)[0]\n",
    "    \n",
    "        else :\n",
    "#           mean, var = calculator(1+success, 1+fail) 베타분포를 이용하는경우\n",
    "            mean = success/(success+fail)\n",
    "            k = np.argmax(mean)\n",
    "        return k    \n",
    "    \n",
    "    \n",
    "    \n",
    "    def thompson(self, success, fail, epsilon):\n",
    "        \"\"\"\n",
    "        output: 선택된 bandit 번호\n",
    "        \"\"\"\n",
    "       # exploration : 랜덤선택\n",
    "        if np.random.rand() < epsilon:\n",
    "            k = np.random.randint(0,len(success),1)[0]\n",
    "\n",
    "        # exploitation : 샘플링\n",
    "        else :\n",
    "            rvs = np.random.beta(1+success, 1+fail)\n",
    "            k = np.argmax(rvs)\n",
    "        return k    \n",
    "    \n",
    "    def UCB(self, success, fail, epsilon):\n",
    "        # exploration : 랜덤선택\n",
    "        if np.random.rand() < epsilon or success.sum()==0:\n",
    "            k = np.random.randint(0,len(success),1)[0]\n",
    "\n",
    "        # exploitation : upper confidence bound\n",
    "        else :\n",
    "            Q = (success/(success+fail)) # 각 bandit의 평균 성공확률\n",
    "            c = 2\n",
    "            N = success+fail # 각 bandit의 총 선택된 횟수.\n",
    "            k = np.argmax(Q + c*np.sqrt(np.log(N.sum())/N))\n",
    "        return k    \n",
    "    "
   ]
  },
  {
   "cell_type": "code",
   "execution_count": 8,
   "metadata": {},
   "outputs": [],
   "source": [
    "n_cluster=8\n",
    "n_bandit = 10\n",
    "n_draws = 500\n",
    "\n",
    "reward_array = {}\n",
    "count_array = {}\n",
    "regret_array = {}\n",
    "\n",
    "for i in range(n_cluster):\n",
    "    reward_array[i] = np.zeros((n_bandit, n_draws))\n",
    "    count_array[i] = np.zeros((n_bandit, n_draws))\n",
    "    regret_array[i] = np.zeros((n_bandit, n_draws))\n"
   ]
  },
  {
   "cell_type": "code",
   "execution_count": 10,
   "metadata": {},
   "outputs": [],
   "source": [
    "param_prob = [np.random.random(n_bandit)*0.5 for i in range(n_cluster)] # 클러스터별 bandit의 모수 set\n",
    "cl_info = np.random.randint(0,n_cluster,1)[0] # 추후 클러스트 분류도 다시 생각해야할듯.\n",
    "\n",
    "success = reward_array[cl_info].sum(axis=1)\n",
    "fail = count_array[cl_info].sum(axis=1) - success\n"
   ]
  },
  {
   "cell_type": "code",
   "execution_count": 11,
   "metadata": {},
   "outputs": [],
   "source": [
    "pc = policy()\n",
    "k = pc.thompson(success, fail, 0.1)\n",
    "reward, regret = draw(param_prob[cl_info], k)"
   ]
  },
  {
   "cell_type": "code",
   "execution_count": 12,
   "metadata": {},
   "outputs": [],
   "source": [
    "reward_array[cl_info][0, k] = reward\n",
    "count_array[cl_info][0, k] = 1"
   ]
  },
  {
   "cell_type": "code",
   "execution_count": 161,
   "metadata": {},
   "outputs": [],
   "source": [
    "def simulator(n_cl, n_band, n_draw):\n",
    "    n_cluster = n_cl\n",
    "    n_bandit = n_band\n",
    "    n_draws = n_draw\n",
    "\n",
    "    reward_array = {}\n",
    "    count_array = {}\n",
    "    regret_array = {}\n",
    "\n",
    "    for i in range(n_cluster):\n",
    "        reward_array[i] = np.zeros((n_bandit, n_draws))\n",
    "        count_array[i] = np.zeros((n_bandit, n_draws))\n",
    "        regret_array[i] = np.zeros((n_bandit, n_draws))\n",
    "\n",
    "        \n",
    "    param_prob = [np.random.random(n_bandit)*0.5 for i in range(n_cluster)] # 클러스터별 bandit의 모수 set\n",
    "   \n",
    "    \n",
    "    for i in range(n_draws):\n",
    "        \n",
    "        for j in range(n_cluster):\n",
    "        \n",
    "        # 해당클러스터 계산\n",
    "            success = reward_array[j].sum(axis=1)\n",
    "            fail = count_array[j].sum(axis=1) - success\n",
    "\n",
    "            pc = policy()\n",
    "            k = pc.thompson(success, fail, 0.1) # \n",
    "            reward, regret = draw(param_prob[j], k)\n",
    "\n",
    "            reward_array[j][k, i] = reward\n",
    "            count_array[j][k, i] = 1\n",
    "            regret_array[j][k, i] = regret\n",
    "    \n",
    "    return reward_array, count_array, regret_array, param_prob"
   ]
  },
  {
   "cell_type": "code",
   "execution_count": 162,
   "metadata": {},
   "outputs": [],
   "source": [
    "reward,count,regret,param = simulator(5,5,1000)"
   ]
  },
  {
   "cell_type": "code",
   "execution_count": 185,
   "metadata": {},
   "outputs": [
    {
     "data": {
      "text/plain": [
       "<matplotlib.legend.Legend at 0x9f1dbd0>"
      ]
     },
     "execution_count": 185,
     "metadata": {},
     "output_type": "execute_result"
    },
    {
     "data": {
      "image/png": "[encoded data removed]",
      "text/plain": [
       "<Figure size 432x288 with 1 Axes>"
      ]
     },
     "metadata": {
      "needs_background": "light"
     },
     "output_type": "display_data"
    }
   ],
   "source": [
    "for i in range(5):\n",
    "    plt.plot(regret[i].sum(axis=0).cumsum()/(np.arange(1000)+1), label=f'cluster:{i+1}')\n",
    "plt.legend()"
   ]
  },
  {
   "cell_type": "markdown",
   "metadata": {},
   "source": [
    "## 2.featrue space and contextual bandit\n",
    "조금더 구체적인 setting을 해보자. context를 고려해서 결정\n",
    "bandit 선택은 policy를 통해서, reward prob 계산은 linear하게 "
   ]
  },
  {
   "cell_type": "code",
   "execution_count": null,
   "metadata": {},
   "outputs": [],
   "source": [
    "n_user = 1000\n",
    "sex = np.random.binomial(1,0.5,n_user)\n",
    "age = "
   ]
  },
  {
   "cell_type": "code",
   "execution_count": null,
   "metadata": {},
   "outputs": [],
   "source": [
    "import pymc3 as pm\n",
    "import numpy as np\n",
    "# We generate 10 datasets\n",
    "true_mu = [np.random.randn() for _ in range(10)]\n",
    "observed_data = [mu + np.random.randn(20) for mu in true_mu]\n",
    "\n",
    "with pm.Model() as model:\n",
    "    data = pm.Data('data', observed_data[0])\n",
    "    mu = pm.Normal('mu', 0, 10)\n",
    "    pm.Normal('y', mu=mu, sigma=1, observed=data)"
   ]
  },
  {
   "cell_type": "code",
   "execution_count": null,
   "metadata": {},
   "outputs": [],
   "source": [
    "traces = []\n",
    "for data_vals in observed_data:\n",
    "    with model:\n",
    "     # Switch out the observed dataset\n",
    "        pm.set_data({'data': data_vals})\n",
    "        traces.append(pm.sample())"
   ]
  },
  {
   "cell_type": "code",
   "execution_count": null,
   "metadata": {},
   "outputs": [],
   "source": [
    "np.random.gamma(1,1)"
   ]
  },
  {
   "cell_type": "markdown",
   "metadata": {},
   "source": [
    "## 3.Dirichlet Process"
   ]
  },
  {
   "cell_type": "code",
   "execution_count": null,
   "metadata": {},
   "outputs": [],
   "source": [
    "class ContextualMAB:\n",
    "    \n",
    "    # initialization\n",
    "    def __init__(self):\n",
    "        \n",
    "        # we build two bandits\n",
    "        self.weights = {}\n",
    "        self.weights[0] = [0.0, 1.6]\n",
    "        self.weights[1] = [0.0, 0.4]\n",
    "    \n",
    "    # method for acting on the bandits\n",
    "    def draw(self, k, x):\n",
    "        \n",
    "        # probability dict\n",
    "        prob_dict = {}\n",
    "        \n",
    "        # loop for each bandit\n",
    "        for bandit in self.weights.keys():\n",
    "        \n",
    "            # linear function of external variable\n",
    "            f_x = self.weights[bandit][0] + self.weights[bandit][1]*x\n",
    "\n",
    "            # generate reward with probability given by the logistic\n",
    "            probability = 1/(1 + np.exp(-f_x))\n",
    "            \n",
    "            # appending to dict\n",
    "            prob_dict[bandit] = probability\n",
    "        \n",
    "        # give reward according to probability\n",
    "        return np.random.choice([0,1], p=[1 - prob_dict[k], prob_dict[k]]), max(prob_dict.values()) - prob_dict[k], prob_dict[k]\n",
    "    \n",
    "\n",
    "def get_context(draw_number):\n",
    "    return np.sin(draw_number*2*np.pi/100)*0.5\n",
    "\n",
    "\n",
    "# we will use a random decision policy for illustration purposes\n",
    "class RandomPolicy:\n",
    "    \n",
    "    # initializing\n",
    "    def __init__(self, n_bandits):\n",
    "        self.n_bandits = n_bandits\n",
    "    \n",
    "    # random bandit choice\n",
    "    def choose_bandit(self, round_df, x):\n",
    "        return np.random.choice(range(self.n_bandits),1)[0]\n",
    "\n",
    "\n",
    "\n",
    "def plot_CMAB_experiment(decision_policy, N_DRAWS, plot_title):\n",
    "\n",
    "    # clearing past figures\n",
    "    plt.close('all')\n",
    "\n",
    "    # Contextual MAB object\n",
    "    cmab = ContextualMAB()\n",
    "\n",
    "    # number of bandits\n",
    "    N_BANDITS = len(cmab.weights.keys())\n",
    "\n",
    "    # lists for accumulating draws, bandit choices and rewards\n",
    "    k_list = []\n",
    "    reward_list = []\n",
    "\n",
    "    # df for accumulating draws and results. policy , context , reward\n",
    "    round_df = pd.DataFrame({'k': [], 'x': [], 'reward': []})\n",
    "\n",
    "    # colors for each bandit\n",
    "    bandit_colors = ['red', 'green']\n",
    "\n",
    "    # opening figure\n",
    "    fig = plt.figure(figsize=(9,5), dpi=150)\n",
    "\n",
    "    # let us position our plots in a grid, the largest being our plays\n",
    "    ax1 = plt.subplot2grid((5, 4), (0, 0), colspan=4, rowspan=3)\n",
    "    ax2 = plt.subplot2grid((5, 4), (3, 0), colspan=4, rowspan=2)\n",
    "\n",
    "    # loop generating draws\n",
    "    for draw_number in range(N_DRAWS):\n",
    "\n",
    "        # record information about this draw\n",
    "        x = get_context(draw_number)\n",
    "        k = decision_policy(round_df, x)\n",
    "        reward, regret, prob = cmab.draw(k, x)\n",
    "\n",
    "        # record information about this draw\n",
    "        k_list.append(k)\n",
    "        reward_list.append(reward)\n",
    "\n",
    "        # getting list of colors that tells us the bandit\n",
    "        color_list = [bandit_colors[k] for k in k_list]\n",
    "\n",
    "        # getting list of facecolors that tells us the reward\n",
    "        facecolor_list = [['none', bandit_colors[k_list[i]]][r] for i, r in enumerate(reward_list)]\n",
    "        \n",
    "        # temporary df with data from this round\n",
    "        temp_df = pd.DataFrame({'x': x, 'k': k, 'reward': reward}, index=[draw_number])\n",
    "        \n",
    "        # accumulating in main df\n",
    "        round_df = pd.concat([round_df, temp_df])\n",
    "\n",
    "    # fixing properties of the plots\n",
    "    ax1.set(xlim=(-1, N_DRAWS), ylim=(-0.5, N_BANDITS-0.5))\n",
    "    ax1.set_title(plot_title, fontsize=10)\n",
    "    ax1.set_xlabel('Round', fontsize=10); ax1.set_ylabel('Bandit', fontsize=10)\n",
    "    ax2.set_title('Value of the context variable $x$', fontsize=10)\n",
    "    ax2.set_xlabel('Round', fontsize=10); ax2.set_ylabel('$x$', fontsize=10)\n",
    "    ax2.set(xlim=(-1, N_DRAWS))\n",
    "\n",
    "    # titles of distribution plots\n",
    "\n",
    "    # initializing with first data\n",
    "    scatter = ax1.scatter(y=[k_list[0]], x=[list(range(N_DRAWS))[0]], color=[color_list[0]], linestyle='-', marker='o', s=30, facecolor=[facecolor_list[0]]);\n",
    "    x_line = ax2.plot(list(range(N_DRAWS)), [get_context(i) for i in range(N_DRAWS)], 'k--', linewidth=2)\n",
    "\n",
    "    # filling area to show optimal action at each point\n",
    "    ax1.fill_between(x=[0,50], y1=[1.5,1.5], y2=[-0.5,-0.5], color=bandit_colors[0], alpha=0.05)\n",
    "    ax1.fill_between(x=[50,100], y1=[1.5,1.5], y2=[-0.5,-0.5], color=bandit_colors[1], alpha=0.05)\n",
    "    ax1.fill_between(x=[100,150], y1=[1.5,1.5], y2=[-0.5,-0.5], color=bandit_colors[0], alpha=0.1)\n",
    "    ax1.fill_between(x=[150,200], y1=[1.5,1.5], y2=[-0.5,-0.5], color=bandit_colors[1], alpha=0.1)\n",
    "\n",
    "    # filling area to show optimal action at each point\n",
    "    ax2.fill_between(x=[0,50], y1=[1,1], y2=[-1,-1], color=bandit_colors[0], alpha=0.1)\n",
    "    ax2.fill_between(x=[50,100], y1=[1,1], y2=[-1,-1], color=bandit_colors[1], alpha=0.1)\n",
    "    ax2.fill_between(x=[100,150], y1=[1,1], y2=[-1,-1], color=bandit_colors[0], alpha=0.1)\n",
    "    ax2.fill_between(x=[150,200], y1=[1,1], y2=[-1,-1], color=bandit_colors[1], alpha=0.1)\n",
    "\n",
    "    # titles\n",
    "    #plt.title('Random draws from the row of slot machines (MAB)', fontsize=10)\n",
    "    #plt.xlabel('Round', fontsize=10); plt.ylabel('Bandit', fontsize=10);\n",
    "\n",
    "    # function for updating\n",
    "    def animate(i):\n",
    "\n",
    "        # clearing axes\n",
    "        ax1.clear(); \n",
    "\n",
    "        # updating game rounds\n",
    "        scatter = ax1.scatter(y=k_list[:i], x=list(range(N_DRAWS))[:i], color=color_list[:i], \n",
    "                              linestyle='-', marker='o', s=30, facecolor=facecolor_list[:i]);\n",
    "\n",
    "        # filling area to show optimal action at each point\n",
    "        ax1.fill_between(x=[0,50], y1=[1.5,1.5], y2=[-0.5,-0.5], color=bandit_colors[0], alpha=0.1)\n",
    "        ax1.fill_between(x=[50,100], y1=[1.5,1.5], y2=[-0.5,-0.5], color=bandit_colors[1], alpha=0.1)\n",
    "        ax1.fill_between(x=[100,150], y1=[1.5,1.5], y2=[-0.5,-0.5], color=bandit_colors[0], alpha=0.1)\n",
    "        ax1.fill_between(x=[150,200], y1=[1.5,1.5], y2=[-0.5,-0.5], color=bandit_colors[1], alpha=0.1)\n",
    "\n",
    "        # fixing properties of the plot\n",
    "        ax1.set(xlim=(-1, N_DRAWS), ylim=(-0.5, N_BANDITS-0.5))\n",
    "        ax1.set_title(plot_title, fontsize=10)\n",
    "        ax1.set_xlabel('Round', fontsize=10); ax1.set_ylabel('Bandit', fontsize=10)\n",
    "        ax2.set_title('Value of the context variable $x$', fontsize=10)\n",
    "        ax2.set_xlabel('Round', fontsize=10); ax2.set_ylabel('$x$', fontsize=10)\n",
    "        ax2.set(xlim=(-1, N_DRAWS))\n",
    "\n",
    "        # do not need to return \n",
    "        return ()\n",
    "\n",
    "    # function for creating animation\n",
    "    anim = FuncAnimation(fig, animate, frames=N_DRAWS, interval=200, blit=True)\n",
    "\n",
    "    # fixing the layout\n",
    "    fig.tight_layout()\n",
    "\n",
    "    # showing\n",
    "    return HTML(anim.to_html5_video())\n",
    "    #return round_df"
   ]
  },
  {
   "cell_type": "code",
   "execution_count": null,
   "metadata": {},
   "outputs": [],
   "source": []
  }
 ],
 "metadata": {
  "kernelspec": {
   "display_name": "Python 3",
   "language": "python",
   "name": "python3"
  },
  "language_info": {
   "codemirror_mode": {
    "name": "ipython",
    "version": 3
   },
   "file_extension": ".py",
   "mimetype": "text/x-python",
   "name": "python",
   "nbconvert_exporter": "python",
   "pygments_lexer": "ipython3",
   "version": "3.7.3"
  }
 },
 "nbformat": 4,
 "nbformat_minor": 2
}
