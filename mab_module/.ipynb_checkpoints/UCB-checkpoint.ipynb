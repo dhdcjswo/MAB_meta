{
 "cells": [
  {
   "cell_type": "markdown",
   "metadata": {},
   "source": [
    "## definition"
   ]
  },
  {
   "cell_type": "code",
   "execution_count": 1,
   "metadata": {},
   "outputs": [],
   "source": [
    "import numpy as np"
   ]
  },
  {
   "cell_type": "code",
   "execution_count": 2,
   "metadata": {},
   "outputs": [],
   "source": [
    "class MAB:\n",
    "    \"\"\"\n",
    "    알고리즘에 의해 선택된 bandit을 draw하는 역할\n",
    "    \n",
    "    \"\"\"\n",
    "    \n",
    "    def __init__(self, bandit_probs):\n",
    "        self.bandit_probs = bandit_probs\n",
    "     \n",
    "    # reward,regret\n",
    "    def draw(self, k):\n",
    "        reward = np.random.binomial(1,self.bandit_probs[k])\n",
    "        regret = np.max(self.bandit_probs) - self.bandit_probs[k]\n",
    "        return reward, regret"
   ]
  },
  {
   "cell_type": "markdown",
   "metadata": {},
   "source": [
    "$$\n",
    "UCB = argmax[Q_t(a) + c \\sqrt {\\frac {lnt} {N_t(a)}}]\n",
    "$$\n",
    "\n",
    "* Q_t(a) : a bandit의 t이전 시점까지의 평균 보상\n",
    "* c = 0보다 큰 불확실성의 크기를 통제하는 상수\n",
    "* t = 시간\n",
    "* N = t 시점 이전까지 a bandit이 선택된 횟수"
   ]
  },
  {
   "cell_type": "code",
   "execution_count": 5,
   "metadata": {},
   "outputs": [],
   "source": [
    "def UCB(success, fail, epsilon):\n",
    "    \"\"\"\n",
    "    \n",
    "    \"\"\"\n",
    "    # exploration : 랜덤선택\n",
    "    if np.random.rand() < epsilon or success.sum()==0:\n",
    "        k = np.random.randint(0,len(success),1)[0]\n",
    "    \n",
    "    # exploitation : upper confidence bound\n",
    "    else :\n",
    "        Q = (success/(success+fail)) # 각 bandit의 평균 성공확률\n",
    "        c = 1 \n",
    "        N = success+fail # 각 bandit의 총 선택된 횟수.\n",
    "        k = np.argmax(Q + c*np.sqrt(np.log(N.sum())/N))\n",
    "    return k    "
   ]
  },
  {
   "cell_type": "markdown",
   "metadata": {},
   "source": [
    "## example"
   ]
  },
  {
   "cell_type": "code",
   "execution_count": 7,
   "metadata": {},
   "outputs": [],
   "source": [
    "# setting\n",
    "bandits_prob=[0.2, 0.3, 0.5, 0.7] # 모수. unknown\n",
    "n_bandits = len(bandits_prob) \n",
    "n_draws = 500 \n",
    "\n",
    "count_array = np.zeros((n_bandits,n_draws)) # 던진횟수 기록\n",
    "reward_array = np.zeros((n_bandits,n_draws)) # 성공(보상)횟수 기록\n",
    "\n",
    "epsilon = 0.2"
   ]
  },
  {
   "cell_type": "code",
   "execution_count": 8,
   "metadata": {},
   "outputs": [],
   "source": [
    "# initialize\n",
    "test = MAB(bandits_prob)"
   ]
  },
  {
   "cell_type": "code",
   "execution_count": 10,
   "metadata": {},
   "outputs": [
    {
     "name": "stderr",
     "output_type": "stream",
     "text": [
      "C:\\Users\\dhdcj\\Anaconda3\\lib\\site-packages\\ipykernel_launcher.py:11: RuntimeWarning: invalid value encountered in true_divide\n",
      "  # This is added back by InteractiveShellApp.init_path()\n",
      "C:\\Users\\dhdcj\\Anaconda3\\lib\\site-packages\\ipykernel_launcher.py:14: RuntimeWarning: divide by zero encountered in true_divide\n",
      "  \n"
     ]
    }
   ],
   "source": [
    "# opertation\n",
    "for i in range(n_draws):\n",
    "    success = reward_array.sum(axis=1) # 성공횟수\n",
    "    fail = count_array.sum(axis=1) - success # 실패횟수\n",
    "    \n",
    "    k = UCB(success, fail, epsilon) # 선택된 bandit\n",
    "    reward, regret = test.draw(k)\n",
    "    \n",
    "    # 업데이트\n",
    "    count_array[k,i] = 1 \n",
    "    reward_array[k,i] = reward "
   ]
  }
 ],
 "metadata": {
  "kernelspec": {
   "display_name": "Python 3",
   "language": "python",
   "name": "python3"
  },
  "language_info": {
   "codemirror_mode": {
    "name": "ipython",
    "version": 3
   },
   "file_extension": ".py",
   "mimetype": "text/x-python",
   "name": "python",
   "nbconvert_exporter": "python",
   "pygments_lexer": "ipython3",
   "version": "3.7.3"
  }
 },
 "nbformat": 4,
 "nbformat_minor": 2
}
