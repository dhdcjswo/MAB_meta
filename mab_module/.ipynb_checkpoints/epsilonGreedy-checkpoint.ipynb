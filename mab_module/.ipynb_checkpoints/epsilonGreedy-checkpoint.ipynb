{
 "cells": [
  {
   "cell_type": "markdown",
   "metadata": {},
   "source": [
    "## definition"
   ]
  },
  {
   "cell_type": "code",
   "execution_count": 1,
   "metadata": {},
   "outputs": [],
   "source": [
    "import numpy as np"
   ]
  },
  {
   "cell_type": "code",
   "execution_count": 2,
   "metadata": {},
   "outputs": [],
   "source": [
    "class MAB:\n",
    "    \"\"\"\n",
    "    알고리즘에 의해 선택된 bandit을 draw하는 역할\n",
    "    \n",
    "    \"\"\"\n",
    "    \n",
    "    def __init__(self, bandit_probs):\n",
    "        self.bandit_probs = bandit_probs\n",
    "     \n",
    "    # reward,regret\n",
    "    def draw(self, k):\n",
    "        reward = np.random.binomial(1,self.bandit_probs[k])\n",
    "        regret = np.max(self.bandit_probs) - self.bandit_probs[k]\n",
    "        return reward, regret"
   ]
  },
  {
   "cell_type": "code",
   "execution_count": 157,
   "metadata": {},
   "outputs": [],
   "source": [
    "# 베타분포를 이용하는경우\n",
    "def calculator(alpha,beta):\n",
    "    mean = alpha/(alpha+beta)\n",
    "    var = (alpha*beta)/(((alpha+beta)**2)*(alpha+beta+1))\n",
    "    return mean, var\n",
    "\n",
    "def epsilonGreedy(success, fail, epsilon):\n",
    "    \"\"\"\n",
    "    * epsilonGreedy. 입실론보다 작으면 exloration에 투자, 크면 exploitation에 투자.\n",
    "    * 현재까지 정보를 토대로 모수 계산.\n",
    "    \"\"\"\n",
    "    # exploration : 랜덤선택\n",
    "    if np.random.rand() < epsilon or success.sum()==0:\n",
    "        k = np.random.randint(0,len(success),1)[0]\n",
    "    \n",
    "    # exploitation : 모수 계산\n",
    "    else :\n",
    "#         mean, var = calculator(1+success, 1+fail) 베타분포를 이용하는경우\n",
    "        mean = success/(success+fail)\n",
    "        k = np.argmax(mean)\n",
    "    return k    "
   ]
  },
  {
   "cell_type": "markdown",
   "metadata": {},
   "source": [
    "## example"
   ]
  },
  {
   "cell_type": "code",
   "execution_count": 181,
   "metadata": {},
   "outputs": [],
   "source": [
    "# setting\n",
    "bandits_prob=[0.2, 0.3, 0.5, 0.7] # 모수. unknown\n",
    "n_bandits = len(bandits_prob) \n",
    "n_draws = 500 \n",
    "\n",
    "count_array = np.zeros((n_bandits,n_draws)) # 던진횟수 기록\n",
    "reward_array = np.zeros((n_bandits,n_draws)) # 성공(보상)횟수 기록\n",
    "\n",
    "epsilon = 0.2"
   ]
  },
  {
   "cell_type": "code",
   "execution_count": 182,
   "metadata": {},
   "outputs": [],
   "source": [
    "# initialize\n",
    "test = MAB(bandits_prob)"
   ]
  },
  {
   "cell_type": "code",
   "execution_count": 183,
   "metadata": {},
   "outputs": [
    {
     "name": "stderr",
     "output_type": "stream",
     "text": [
      "C:\\Users\\dhdcj\\Anaconda3\\lib\\site-packages\\ipykernel_launcher.py:19: RuntimeWarning: invalid value encountered in true_divide\n"
     ]
    }
   ],
   "source": [
    "# opertation\n",
    "for i in range(n_draws):\n",
    "    success = reward_array.sum(axis=1) # 성공횟수\n",
    "    fail = count_array.sum(axis=1) - success # 실패횟수\n",
    "    \n",
    "    k = epsilonGreedy(success, fail, epsilon) # 선택된 bandit\n",
    "    reward, regret = test.draw(k)\n",
    "    \n",
    "    # 업데이트\n",
    "    count_array[k,i] = 1 \n",
    "    reward_array[k,i] = reward "
   ]
  },
  {
   "cell_type": "code",
   "execution_count": 184,
   "metadata": {},
   "outputs": [
    {
     "data": {
      "text/plain": [
       "array([  8.,   6.,  17., 276.])"
      ]
     },
     "execution_count": 184,
     "metadata": {},
     "output_type": "execute_result"
    }
   ],
   "source": []
  },
  {
   "cell_type": "code",
   "execution_count": null,
   "metadata": {},
   "outputs": [],
   "source": []
  }
 ],
 "metadata": {
  "kernelspec": {
   "display_name": "Python 3",
   "language": "python",
   "name": "python3"
  },
  "language_info": {
   "codemirror_mode": {
    "name": "ipython",
    "version": 3
   },
   "file_extension": ".py",
   "mimetype": "text/x-python",
   "name": "python",
   "nbconvert_exporter": "python",
   "pygments_lexer": "ipython3",
   "version": "3.7.3"
  }
 },
 "nbformat": 4,
 "nbformat_minor": 2
}
