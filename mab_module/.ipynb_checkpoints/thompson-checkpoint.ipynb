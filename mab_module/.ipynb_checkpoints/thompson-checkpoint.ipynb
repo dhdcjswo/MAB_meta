{
 "cells": [
  {
   "cell_type": "markdown",
   "metadata": {},
   "source": [
    "## definition"
   ]
  },
  {
   "cell_type": "code",
   "execution_count": 69,
   "metadata": {},
   "outputs": [],
   "source": [
    "import numpy as np"
   ]
  },
  {
   "cell_type": "code",
   "execution_count": 107,
   "metadata": {},
   "outputs": [],
   "source": [
    "class MAB:\n",
    "    \"\"\"\n",
    "    알고리즘에 의해 선택된 bandit을 draw하는 역할\n",
    "    \n",
    "    \"\"\"\n",
    "    \n",
    "    def __init__(self, bandit_probs):\n",
    "        self.bandit_probs = bandit_probs\n",
    "     \n",
    "    # reward,regret\n",
    "    def draw(self, k):\n",
    "        reward = np.random.binomial(1,self.bandit_probs[k])\n",
    "        regret = np.max(self.bandit_probs) - self.bandit_probs[k]\n",
    "        return reward, regret"
   ]
  },
  {
   "cell_type": "code",
   "execution_count": 71,
   "metadata": {},
   "outputs": [],
   "source": [
    "def thompson(success, fail, epsilon):\n",
    "    \"\"\"\n",
    "    * thompson sampling. 입실론보다 작으면 exloration에 투자, 크면 exploitation에 투자.\n",
    "    * 결정된 값이 아닌 샘플링의 방식\n",
    "    \"\"\"\n",
    "    # exploration : 랜덤선택\n",
    "    if np.random.rand() < epsilon:\n",
    "        k = np.random.randint(0,len(success),1)[0]\n",
    "    \n",
    "    # exploitation : 샘플링\n",
    "    else :\n",
    "        rvs = np.random.beta(1+success, 1+fail)\n",
    "        k = np.argmax(rvs)\n",
    "    return k    "
   ]
  },
  {
   "cell_type": "markdown",
   "metadata": {},
   "source": [
    "## example"
   ]
  },
  {
   "cell_type": "code",
   "execution_count": 114,
   "metadata": {},
   "outputs": [],
   "source": [
    "# setting\n",
    "bandits_prob=[0.2, 0.3, 0.5, 0.7] # 모수. unknown\n",
    "n_bandits = len(bandits_prob) \n",
    "n_draws = 500 \n",
    "\n",
    "count_array = np.zeros((n_bandits,n_draws)) # 던진횟수 기록\n",
    "reward_array = np.zeros((n_bandits,n_draws)) # 성공(보상)횟수 기록\n",
    "\n",
    "epsilon = 0.2"
   ]
  },
  {
   "cell_type": "code",
   "execution_count": 105,
   "metadata": {},
   "outputs": [],
   "source": [
    "# initialize\n",
    "test = MAB(bandits_prob)"
   ]
  },
  {
   "cell_type": "code",
   "execution_count": 117,
   "metadata": {},
   "outputs": [],
   "source": [
    "# opertation\n",
    "for i in range(n_draws):\n",
    "    success = reward_array.sum(axis=1) # 성공횟수\n",
    "    fail = count_array.sum(axis=1) - success # 실패횟수\n",
    "    \n",
    "    k = thompson(success, fail, epsilon) # 선택된 bandit\n",
    "    reward, regret = test.draw(k)\n",
    "    \n",
    "    # 업데이트\n",
    "    count_array[k,i] = 1 \n",
    "    reward_array[k,i] = reward "
   ]
  }
 ],
 "metadata": {
  "kernelspec": {
   "display_name": "Python 3",
   "language": "python",
   "name": "python3"
  },
  "language_info": {
   "codemirror_mode": {
    "name": "ipython",
    "version": 3
   },
   "file_extension": ".py",
   "mimetype": "text/x-python",
   "name": "python",
   "nbconvert_exporter": "python",
   "pygments_lexer": "ipython3",
   "version": "3.7.3"
  }
 },
 "nbformat": 4,
 "nbformat_minor": 2
}
